{
 "cells": [
  {
   "cell_type": "markdown",
   "id": "d5fd8e41",
   "metadata": {},
   "source": [
    "## Exercice 10.12"
   ]
  },
  {
   "cell_type": "code",
   "execution_count": 11,
   "id": "5fc53853",
   "metadata": {},
   "outputs": [
    {
     "name": "stdout",
     "output_type": "stream",
     "text": [
      "Python is wonderful\n",
      "Python is wonderful\n"
     ]
    }
   ],
   "source": [
    "dicoAnglaisFrancais = {\n",
    "    \"langage\"   : \"language\",\n",
    "    \"un\"        : \"a\",\n",
    "    \"est\"       : \"is\",\n",
    "    \"formidable\": \"wonderful\"\n",
    "}\n",
    "\n",
    "def traduire(phrase: str, dico: dict[str, str]) -> str:\n",
    "    r = \"\"\n",
    "    sp = \"\"\n",
    "    for w in phrase.split(\" \"):\n",
    "        r += sp + (w if w not in dico else dico[w])\n",
    "        sp = \" \"\n",
    "    return r\n",
    "\n",
    "def traduire2(phrase: str, dico: dict[str, str]) -> str:\n",
    "    return \" \".join([w if w not in dico else dico[w] for w in phrase.split(\" \")])\n",
    "\n",
    "\n",
    "print(traduire(\"Python est formidable\", dicoAnglaisFrancais))\n",
    "print(traduire2(\"Python est formidable\", dicoAnglaisFrancais))"
   ]
  }
 ],
 "metadata": {
  "kernelspec": {
   "display_name": "Python 3",
   "language": "python",
   "name": "python3"
  },
  "language_info": {
   "codemirror_mode": {
    "name": "ipython",
    "version": 3
   },
   "file_extension": ".py",
   "mimetype": "text/x-python",
   "name": "python",
   "nbconvert_exporter": "python",
   "pygments_lexer": "ipython3",
   "version": "3.13.7"
  }
 },
 "nbformat": 4,
 "nbformat_minor": 5
}
