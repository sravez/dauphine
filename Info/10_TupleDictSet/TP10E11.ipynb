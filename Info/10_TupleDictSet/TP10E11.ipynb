{
 "cells": [
  {
   "cell_type": "markdown",
   "id": "33a817ba",
   "metadata": {},
   "source": [
    "## Exercice 10.11. - Détection d'anagrammes"
   ]
  },
  {
   "cell_type": "markdown",
   "id": "d52b26a4",
   "metadata": {},
   "source": [
    "### 10.11.1"
   ]
  },
  {
   "cell_type": "code",
   "execution_count": 8,
   "id": "e8d0f709",
   "metadata": {},
   "outputs": [
    {
     "name": "stdout",
     "output_type": "stream",
     "text": [
      "Ce ne sont pas des anagrammes\n"
     ]
    }
   ],
   "source": [
    "def compte(s: str, c: str) -> int:\n",
    "    return s.count(c)\n",
    "\n",
    "def estAnagrammeV1(s1: str, s2: str) -> bool:\n",
    "    # On ne peut être un anagramme si on a pas la même longueur\n",
    "    if len(s1) != len(s2):\n",
    "        return False\n",
    "    # On itère sur les lettres de s1\n",
    "    for l in set(s1):\n",
    "        if compte(s1, l) != compte(s2, l):\n",
    "            return False\n",
    "    return True       \n",
    "\n",
    "m1 = str(input(\"Mot 1 : \"))\n",
    "m2 = str(input(\"Mot 2 : \"))\n",
    "if estAnagrammeV1(m1, m2):\n",
    "    print(\"Ce sont des anagrammes\")\n",
    "else:\n",
    "    print(\"Ce ne sont pas des anagrammes\")"
   ]
  },
  {
   "cell_type": "markdown",
   "id": "0d5d87d7",
   "metadata": {},
   "source": [
    "### 10.11.2"
   ]
  },
  {
   "cell_type": "code",
   "execution_count": 17,
   "id": "69a1627b",
   "metadata": {},
   "outputs": [
    {
     "name": "stdout",
     "output_type": "stream",
     "text": [
      "True\n",
      "False\n"
     ]
    }
   ],
   "source": [
    "def nbOccu(s: str) -> dict[str, int]:\n",
    "    return { c: s.count(c) for c in set(s) }\n",
    "\n",
    "def estAnagrammeV2(s1: str, s2: str) -> bool:\n",
    "   return nbOccu(s1) == nbOccu(s2)\n",
    "\n",
    "print(estAnagrammeV2(\"toto\", \"toot\"))\n",
    "print(estAnagrammeV2(\"toto\", \"tooto\"))\n"
   ]
  },
  {
   "cell_type": "markdown",
   "id": "62f9b9ff",
   "metadata": {},
   "source": [
    "### 10.11.3"
   ]
  },
  {
   "cell_type": "code",
   "execution_count": 15,
   "id": "8a1c7f46",
   "metadata": {},
   "outputs": [
    {
     "name": "stdout",
     "output_type": "stream",
     "text": [
      "True\n",
      "False\n"
     ]
    }
   ],
   "source": [
    "def estAnagrammeV3(s1: str, s2: str) -> bool:\n",
    "    return sorted(s1) == sorted(s2)\n",
    "\n",
    "print(estAnagrammeV3(\"toto\", \"toot\"))\n",
    "print(estAnagrammeV3(\"toto\", \"toots\"))"
   ]
  },
  {
   "cell_type": "markdown",
   "id": "33edb130",
   "metadata": {},
   "source": [
    "### 10.11.4"
   ]
  },
  {
   "cell_type": "code",
   "execution_count": null,
   "id": "8318cb6d",
   "metadata": {},
   "outputs": [],
   "source": [
    "\n"
   ]
  }
 ],
 "metadata": {
  "kernelspec": {
   "display_name": "Python 3",
   "language": "python",
   "name": "python3"
  },
  "language_info": {
   "codemirror_mode": {
    "name": "ipython",
    "version": 3
   },
   "file_extension": ".py",
   "mimetype": "text/x-python",
   "name": "python",
   "nbconvert_exporter": "python",
   "pygments_lexer": "ipython3",
   "version": "3.13.7"
  }
 },
 "nbformat": 4,
 "nbformat_minor": 5
}
