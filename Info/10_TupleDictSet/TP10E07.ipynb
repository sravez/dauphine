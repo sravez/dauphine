{
 "cells": [
  {
   "cell_type": "markdown",
   "id": "2c246543",
   "metadata": {},
   "source": [
    "## Exercice 10.7\n",
    "\n",
    "`affiche()` affiche sur la même ligne la valeur des arguments passés à la fonction (stockées dans le tuple `argv`)\n",
    "séparées par une espace.\n",
    "\n",
    "`affiche2()` acceptent uniquement des arguments par mot-clé dont elle affiche clés et valeurs."
   ]
  },
  {
   "cell_type": "code",
   "execution_count": 3,
   "id": "a9a3bf7e",
   "metadata": {},
   "outputs": [
    {
     "name": "stdout",
     "output_type": "stream",
     "text": [
      "Ceci est un exemple ! \n",
      "id :  1\n",
      "name :  Alex\n",
      "age :  23\n"
     ]
    }
   ],
   "source": [
    "def affiche(*argv):\n",
    "    for arg in argv:\n",
    "        print(arg, end=\" \")\n",
    "\n",
    "def affiche2(**kwargs):\n",
    "    for key in kwargs:\n",
    "        print(key, \": \", kwargs[key])\n",
    "\n",
    "affiche(\"Ceci\", \"est\", \"un\", \"exemple !\")\n",
    "print()\n",
    "affiche2(id=1, name=\"Alex\", age=23)"
   ]
  }
 ],
 "metadata": {
  "kernelspec": {
   "display_name": "Python 3",
   "language": "python",
   "name": "python3"
  },
  "language_info": {
   "codemirror_mode": {
    "name": "ipython",
    "version": 3
   },
   "file_extension": ".py",
   "mimetype": "text/x-python",
   "name": "python",
   "nbconvert_exporter": "python",
   "pygments_lexer": "ipython3",
   "version": "3.13.7"
  }
 },
 "nbformat": 4,
 "nbformat_minor": 5
}
