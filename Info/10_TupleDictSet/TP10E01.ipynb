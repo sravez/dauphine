{
 "cells": [
  {
   "cell_type": "markdown",
   "id": "8ac58e93",
   "metadata": {},
   "source": [
    "## Exercice 10.1"
   ]
  },
  {
   "cell_type": "code",
   "execution_count": 8,
   "id": "b51a8cd1",
   "metadata": {},
   "outputs": [
    {
     "name": "stdout",
     "output_type": "stream",
     "text": [
      "nom\n",
      "prenom\n",
      "age\n",
      "Dupuis\n",
      "Jacques\n",
      "30\n",
      "nom : Dupuis\n",
      "prenom : Jacques\n",
      "age : 30\n",
      "Jacques Dupuis a 30 ans\n"
     ]
    }
   ],
   "source": [
    "d = { 'nom': 'Dupuis' , 'prenom': 'Jacque', 'age': 30 }\n",
    "\n",
    "d['prenom'] = \"Jacques\"\n",
    "\n",
    "for key in d:\n",
    "    print(key)\n",
    "\n",
    "for key in d:\n",
    "    print(d[key])\n",
    "\n",
    "for key in d:\n",
    "    print(key, \":\", d[key])\n",
    "\n",
    "print(d['prenom'], d['nom'],\"a\", d['age'], \"ans\")"
   ]
  }
 ],
 "metadata": {
  "kernelspec": {
   "display_name": "Python 3",
   "language": "python",
   "name": "python3"
  },
  "language_info": {
   "codemirror_mode": {
    "name": "ipython",
    "version": 3
   },
   "file_extension": ".py",
   "mimetype": "text/x-python",
   "name": "python",
   "nbconvert_exporter": "python",
   "pygments_lexer": "ipython3",
   "version": "3.13.7"
  }
 },
 "nbformat": 4,
 "nbformat_minor": 5
}
