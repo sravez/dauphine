{
 "cells": [
  {
   "cell_type": "markdown",
   "id": "51b8ea74",
   "metadata": {},
   "source": [
    "## Exercice 10.2\n",
    "\n",
    "La fonction `inverse()` crée un nouveau dictionnaire dont les clés sont les valeurs et les valeurs les clés\n",
    "de son argument."
   ]
  },
  {
   "cell_type": "code",
   "execution_count": 3,
   "id": "213d947d",
   "metadata": {},
   "outputs": [
    {
     "name": "stdout",
     "output_type": "stream",
     "text": [
      "{'manger': 'alimenter', 'courir': 'bouger', 'observer': 'analyser'}\n",
      "{'manger': ['nourrir', 'alimenter'], 'courir': ['bouger'], 'observer': ['étudier', 'analyser']}\n"
     ]
    }
   ],
   "source": [
    "def inverse(dico):\n",
    "    dico2 = {}\n",
    "    for k in dico:\n",
    "        dico2[dico[k]] = k\n",
    "    return dico2\n",
    "\n",
    "def inverse2(dico):\n",
    "    dico2 = {}\n",
    "    for k in dico:\n",
    "        if dico[k] in dico2:\n",
    "            dico2[dico[k]].append(k)\n",
    "        else:\n",
    "            dico2[dico[k]] = [k]\n",
    "    return dico2\n",
    "\n",
    "synonyme = {\n",
    "    \"nourrir\"  : \"manger\",\n",
    "    \"bouger\"   : \"courir\",\n",
    "    \"étudier\"  : \"observer\",\n",
    "    \"analyser\" : \"observer\",\n",
    "    \"alimenter\": \"manger\"\n",
    "}\n",
    "\n",
    "print(inverse(synonyme))\n",
    "print(inverse2(synonyme))"
   ]
  }
 ],
 "metadata": {
  "kernelspec": {
   "display_name": "Python 3",
   "language": "python",
   "name": "python3"
  },
  "language_info": {
   "codemirror_mode": {
    "name": "ipython",
    "version": 3
   },
   "file_extension": ".py",
   "mimetype": "text/x-python",
   "name": "python",
   "nbconvert_exporter": "python",
   "pygments_lexer": "ipython3",
   "version": "3.13.7"
  }
 },
 "nbformat": 4,
 "nbformat_minor": 5
}
