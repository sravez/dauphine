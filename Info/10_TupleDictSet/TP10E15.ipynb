{
 "cells": [
  {
   "cell_type": "markdown",
   "id": "64abccdc",
   "metadata": {},
   "source": [
    "## Exercice 10.15"
   ]
  },
  {
   "cell_type": "code",
   "execution_count": null,
   "id": "d65ea386",
   "metadata": {},
   "outputs": [],
   "source": [
    "units = {\n",
    "    \"oeufs\"   : \"\",\n",
    "    \"farine\"  : \"g\",\n",
    "    \"lait\"    : \"cl\",\n",
    "    \"beurre\"  : \"g\",\n",
    "    \"sucre\"   : \"g\",\n",
    "    \"levure\"  : \"sachet\",\n",
    "    \"chocolat\": \"g\"\n",
    "}\n",
    "\n",
    "persons = 4\n",
    "empty_recipe = {\n",
    "    \"oeufs\" : ( 0,  ''),\n",
    "    \"farine\": ( 0, 'g'),\n",
    "\n",
    "}"
   ]
  },
  {
   "cell_type": "markdown",
   "id": "ae80d9b9",
   "metadata": {},
   "source": [
    "### 10.15.1"
   ]
  },
  {
   "cell_type": "code",
   "execution_count": null,
   "id": "3a61945e",
   "metadata": {},
   "outputs": [
    {
     "data": {
      "text/plain": [
       "{'Farine': (100, 'g'), 'Oeufs': (3, '')}"
      ]
     },
     "execution_count": 9,
     "metadata": {},
     "output_type": "execute_result"
    }
   ],
   "source": [
    "def new_recipe():\n",
    "    another = \"c\"\n",
    "    r = {}\n",
    "    for i in units:\n",
    "        q = int(input(f\"Quantité de {i} ({units[i]}) : \"))\n",
    "    return r\n",
    "\n",
    "new_recipe()"
   ]
  },
  {
   "cell_type": "markdown",
   "id": "5e33f7a6",
   "metadata": {},
   "source": [
    "### 10.15.2"
   ]
  },
  {
   "cell_type": "code",
   "execution_count": 10,
   "id": "79009e61",
   "metadata": {},
   "outputs": [
    {
     "data": {
      "text/plain": [
       "{'oeuf': 3, 'farine': 100, 'huile': 2}"
      ]
     },
     "execution_count": 10,
     "metadata": {},
     "output_type": "execute_result"
    }
   ],
   "source": [
    "def import_recipe(**ingredients):\n",
    "    return ingredients\n",
    "\n",
    "import_recipe(oeuf=3, farine=100, huile=2)    \n"
   ]
  },
  {
   "cell_type": "markdown",
   "id": "d681a9f7",
   "metadata": {},
   "source": [
    "### 10.15.3"
   ]
  },
  {
   "cell_type": "code",
   "execution_count": 13,
   "id": "576b71e1",
   "metadata": {},
   "outputs": [
    {
     "name": "stdout",
     "output_type": "stream",
     "text": [
      "{'Farine': 100, 'Oeufs': 3}\n"
     ]
    }
   ],
   "source": [
    "def affiche_recette(recipe):\n",
    "    print({ k:recipe[k][0] for k in recipe if recipe[k][0] > 0})\n",
    "\n",
    "affiche_recette({'Farine': (100, 'g'), 'Oeufs': (3, ''), \"huile\": (0, \"cuiller\")})"
   ]
  },
  {
   "cell_type": "markdown",
   "id": "a740fdfb",
   "metadata": {},
   "source": [
    "### 10.15.4"
   ]
  }
 ],
 "metadata": {
  "kernelspec": {
   "display_name": "Python 3",
   "language": "python",
   "name": "python3"
  },
  "language_info": {
   "codemirror_mode": {
    "name": "ipython",
    "version": 3
   },
   "file_extension": ".py",
   "mimetype": "text/x-python",
   "name": "python",
   "nbconvert_exporter": "python",
   "pygments_lexer": "ipython3",
   "version": "3.13.7"
  }
 },
 "nbformat": 4,
 "nbformat_minor": 5
}
