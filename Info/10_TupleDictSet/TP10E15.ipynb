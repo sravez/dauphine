{
 "cells": [
  {
   "cell_type": "markdown",
   "id": "64abccdc",
   "metadata": {},
   "source": [
    "## Exercice 10.15"
   ]
  },
  {
   "cell_type": "code",
   "execution_count": 22,
   "id": "d65ea386",
   "metadata": {},
   "outputs": [],
   "source": [
    "units = {\n",
    "    \"oeufs\"   : \"\",\n",
    "    \"farine\"  : \"g\",\n",
    "    \"lait\"    : \"cl\",\n",
    "    \"beurre\"  : \"g\",\n",
    "    \"sucre\"   : \"g\",\n",
    "    \"levure\"  : \"sachet\",\n",
    "    \"chocolat\": \"g\"\n",
    "}\n",
    "\n",
    "base_persons = 4\n",
    "\n",
    "my_recipe = {\n",
    "    \"oeufs\"   : (  3, \"\"),\n",
    "    \"farine\"  : (100, \"g\"),\n",
    "    \"lait\"    : ( 25, \"cl\"),\n",
    "    \"beurre\"  : (150, \"g\"),\n",
    "    \"sucre\"   : ( 75, \"g\"),\n",
    "    \"levure\"  : (  1, \"sachet\"),\n",
    "    \"chocolat\": (200, \"g\")\n",
    "}"
   ]
  },
  {
   "cell_type": "markdown",
   "id": "ae80d9b9",
   "metadata": {},
   "source": [
    "### 10.15.1"
   ]
  },
  {
   "cell_type": "code",
   "execution_count": 23,
   "id": "3a61945e",
   "metadata": {},
   "outputs": [],
   "source": [
    "def creeRecette():\n",
    "    print(f\"Saisir les quantités pour {persons} personnes.\")\n",
    "    r = {}\n",
    "    for i in units:\n",
    "        q = int(input(f\"Quantité de {i} ({units[i]}) : \"))\n",
    "        if q > 0:\n",
    "            r[i] = (q, units[i])\n",
    "    return r\n"
   ]
  },
  {
   "cell_type": "markdown",
   "id": "5e33f7a6",
   "metadata": {},
   "source": [
    "### 10.15.2"
   ]
  },
  {
   "cell_type": "code",
   "execution_count": 24,
   "id": "79009e61",
   "metadata": {},
   "outputs": [],
   "source": [
    "def creeRecette2(**ingredients):\n",
    "    return ingredients\n"
   ]
  },
  {
   "cell_type": "markdown",
   "id": "d681a9f7",
   "metadata": {},
   "source": [
    "### 10.15.3"
   ]
  },
  {
   "cell_type": "code",
   "execution_count": 25,
   "id": "576b71e1",
   "metadata": {},
   "outputs": [
    {
     "name": "stdout",
     "output_type": "stream",
     "text": [
      "{'Farine': 100, 'Oeufs': 3}\n"
     ]
    }
   ],
   "source": [
    "def affiche_recette(recipe):\n",
    "    print({ k:recipe[k][0] for k in recipe if recipe[k][0] > 0})\n",
    "\n",
    "affiche_recette({'Farine': (100, 'g'), 'Oeufs': (3, ''), \"huile\": (0, \"cuiller\")})"
   ]
  },
  {
   "cell_type": "markdown",
   "id": "a740fdfb",
   "metadata": {},
   "source": [
    "### 10.15.4"
   ]
  },
  {
   "cell_type": "code",
   "execution_count": 29,
   "id": "8432daac",
   "metadata": {},
   "outputs": [
    {
     "name": "stdout",
     "output_type": "stream",
     "text": [
      "{'oeufs': 6, 'farine': 200, 'lait': 50, 'beurre': 300, 'sucre': 150, 'levure': 2, 'chocolat': 400}\n"
     ]
    }
   ],
   "source": [
    "from math import ceil\n",
    "\n",
    "def affiche_recette(recette, nb):\n",
    "    print({ i:ceil(recette[i][0] * nb / base_persons) for i in recette if recette[i][0] > 0 })\n",
    "\n",
    "affiche_recette(my_recipe, 8)"
   ]
  }
 ],
 "metadata": {
  "kernelspec": {
   "display_name": "Python 3",
   "language": "python",
   "name": "python3"
  },
  "language_info": {
   "codemirror_mode": {
    "name": "ipython",
    "version": 3
   },
   "file_extension": ".py",
   "mimetype": "text/x-python",
   "name": "python",
   "nbconvert_exporter": "python",
   "pygments_lexer": "ipython3",
   "version": "3.13.7"
  }
 },
 "nbformat": 4,
 "nbformat_minor": 5
}
