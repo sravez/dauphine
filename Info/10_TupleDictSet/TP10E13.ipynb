{
 "cells": [
  {
   "cell_type": "markdown",
   "id": "02c43115",
   "metadata": {},
   "source": [
    "## Exercice 10.13"
   ]
  },
  {
   "cell_type": "code",
   "execution_count": 30,
   "id": "20e3d8f6",
   "metadata": {},
   "outputs": [],
   "source": [
    "Nutriments_P = [\"Proteine\", \"Fibre\", \"Fruits-Legumes\"]\n",
    "Nutriments_N = [\"Energie\", \"Sucre\", \"Graisses-Saturees\", \"Sodium\"]\n",
    "Etiquettes = {\n",
    "    'A': [-15, -2],\n",
    "    'B': [ -1,  3],\n",
    "    'C': [  4, 11],\n",
    "    'D': [ 12, 16],\n",
    "    'E': [ 17, 40]\n",
    "}\n",
    "\n"
   ]
  },
  {
   "cell_type": "markdown",
   "id": "815469b2",
   "metadata": {},
   "source": [
    "### 10.13.1"
   ]
  },
  {
   "cell_type": "code",
   "execution_count": null,
   "id": "714b2678",
   "metadata": {},
   "outputs": [
    {
     "data": {
      "text/plain": [
       "{'BarresChocolats': {'Energie': 4,\n",
       "  'Sucre': 0,\n",
       "  'Graisses-Saturees': 1,\n",
       "  'Sodium': 2,\n",
       "  'Proteine': 5,\n",
       "  'Fibre': 5,\n",
       "  'Fruits-Legumes': 0},\n",
       " 'BarresAmande': {'Energie': 1,\n",
       "  'Sucre': 1,\n",
       "  'Graisses-Saturees': 0,\n",
       "  'Sodium': 0,\n",
       "  'Proteine': 2,\n",
       "  'Fibre': 2,\n",
       "  'Fruits-Legumes': 1},\n",
       " 'PetalesRiz': {'Energie': 4,\n",
       "  'Sucre': 3,\n",
       "  'Graisses-Saturees': 0,\n",
       "  'Sodium': 3,\n",
       "  'Proteine': 5,\n",
       "  'Fibre': 5,\n",
       "  'Fruits-Legumes': 0},\n",
       " 'Cornflexe': {'Energie': 4,\n",
       "  'Sucre': 0,\n",
       "  'Graisses-Saturees': 0,\n",
       "  'Sodium': 3,\n",
       "  'Proteine': 4,\n",
       "  'Fibre': 5,\n",
       "  'Fruits-Legumes': 0}}"
      ]
     },
     "execution_count": 31,
     "metadata": {},
     "output_type": "execute_result"
    }
   ],
   "source": [
    "def load_aliments(path: str, nutriments: list[str]):\n",
    "    r = {}\n",
    "    f = open(path)\n",
    "    for l in f:\n",
    "        p = l.split(\" \")\n",
    "        r[p[0]] = { nutriments[i]: int(p[i+1]) for i in range(len(nutriments))}\n",
    "    f.close()\n",
    "    return r\n",
    "\n",
    "load_aliments(\"./aliments.txt\", Nutriments_N + Nutriments_P)"
   ]
  },
  {
   "cell_type": "markdown",
   "id": "5f9359b4",
   "metadata": {},
   "source": [
    "### 10.13.2"
   ]
  },
  {
   "cell_type": "code",
   "execution_count": 32,
   "id": "2fc074dd",
   "metadata": {},
   "outputs": [
    {
     "name": "stdout",
     "output_type": "stream",
     "text": [
      "-3\n"
     ]
    }
   ],
   "source": [
    "def nutriScore(points: dict[str, int], N_N: list[str], N_P: list[str]) -> int:\n",
    "    score = 0\n",
    "    for nn in N_N:\n",
    "        score += 0 if nn not in points else points[nn]\n",
    "    for np in N_P:\n",
    "        score -= 0 if np not in points else points[np]\n",
    "    return score\n",
    "\n",
    "d = {'Energie': 4, 'Sucre': 0, 'Graisses-Saturees': 1, 'Sodium': 2, 'Proteine': 5, 'Fibre': 5, 'Fruits-Legumes': 0}\n",
    "print(nutriScore(d, Nutriments_N, Nutriments_P))"
   ]
  },
  {
   "cell_type": "markdown",
   "id": "91041386",
   "metadata": {},
   "source": [
    "### 10.13.3"
   ]
  },
  {
   "cell_type": "code",
   "execution_count": 33,
   "id": "cfb55aed",
   "metadata": {},
   "outputs": [
    {
     "name": "stdout",
     "output_type": "stream",
     "text": [
      "{'BarresChocolats': -3, 'BarresAmande': -3, 'PetalesRiz': 0, 'Cornflexe': -2}\n"
     ]
    }
   ],
   "source": [
    "def AlimentsNutriscore(aliments: dict[str, dict[str, int]], N_N: list[str], N_P: list[str]):\n",
    "    r = {}\n",
    "    for a in aliments:\n",
    "        r[a] = nutriScore(aliments[a], N_N, N_P)\n",
    "    return r\n",
    "\n",
    "a = {\n",
    "    'BarresChocolats': {'Energie': 4, 'Sucre': 0, 'Graisses-Saturees': 1, 'Sodium': 2, 'Proteine': 5, 'Fibre': 5, 'Fruits-Legumes': 0},\n",
    "    'BarresAmande': {'Energie': 1, 'Sucre': 1, 'Graisses-Saturees': 0, 'Sodium': 0, 'Proteine': 2, 'Fibre': 2, 'Fruits-Legumes': 1},\n",
    "    'PetalesRiz': {'Energie': 4, 'Sucre': 3, 'Graisses-Saturees': 0, 'Sodium': 3, 'Proteine': 5, 'Fibre': 5, 'Fruits-Legumes': 0},\n",
    "    'Cornflexe': {'Energie': 4, 'Sucre': 0, 'Graisses-Saturees': 0, 'Sodium': 3, 'Proteine': 4, 'Fibre': 5, 'Fruits-Legumes': 0}\n",
    "}\n",
    "print(AlimentsNutriscore(a, Nutriments_N, Nutriments_P))    "
   ]
  },
  {
   "cell_type": "markdown",
   "id": "d16cf251",
   "metadata": {},
   "source": [
    "### 10.13.4"
   ]
  },
  {
   "cell_type": "code",
   "execution_count": 34,
   "id": "9cac2b0b",
   "metadata": {},
   "outputs": [
    {
     "name": "stdout",
     "output_type": "stream",
     "text": [
      "{'A': ['BarresChocolats', 'BarresAmande', 'Cornflexe'], 'B': ['PetalesRiz']}\n"
     ]
    }
   ],
   "source": [
    "def get_label(score: int, labels: dict[str, list[int]]):\n",
    "    l = [ i for i in labels if labels[i][0] <= score <= labels[i][1] ]\n",
    "    return l[0]\n",
    "\n",
    "def classification(scores: dict[str, int], labels: dict[str, list[int]]):\n",
    "    r = {}\n",
    "    for s in scores:\n",
    "        l = get_label(scores[s], labels)\n",
    "        if l in r:\n",
    "            r[l] += [s]\n",
    "        else:\n",
    "            r[l] = [s]\n",
    "    return r\n",
    "\n",
    "s = {'BarresChocolats': -3, 'BarresAmande': -3, 'PetalesRiz': 0, 'Cornflexe': -2}\n",
    "print(classification(s, Etiquettes))        "
   ]
  },
  {
   "cell_type": "markdown",
   "id": "31b87043",
   "metadata": {},
   "source": [
    "### 10.13.5"
   ]
  },
  {
   "cell_type": "code",
   "execution_count": 38,
   "id": "ca9eae1e",
   "metadata": {},
   "outputs": [
    {
     "name": "stdout",
     "output_type": "stream",
     "text": [
      "{'A': ['BarresChocolats', 'BarresAmande', 'Cornflexe'], 'B': ['PetalesRiz']}\n"
     ]
    }
   ],
   "source": [
    "path = str(input(\"Chemin vers le fichier :\"))\n",
    "aliments = load_aliments(path, Nutriments_N + Nutriments_P)\n",
    "c = classification(\n",
    "    AlimentsNutriscore(aliments, Nutriments_N, Nutriments_P), \n",
    "    Etiquettes)\n",
    "print(c)"
   ]
  }
 ],
 "metadata": {
  "kernelspec": {
   "display_name": "Python 3",
   "language": "python",
   "name": "python3"
  },
  "language_info": {
   "codemirror_mode": {
    "name": "ipython",
    "version": 3
   },
   "file_extension": ".py",
   "mimetype": "text/x-python",
   "name": "python",
   "nbconvert_exporter": "python",
   "pygments_lexer": "ipython3",
   "version": "3.13.7"
  }
 },
 "nbformat": 4,
 "nbformat_minor": 5
}
