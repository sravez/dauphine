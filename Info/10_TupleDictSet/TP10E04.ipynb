{
 "cells": [
  {
   "cell_type": "markdown",
   "id": "e1fcb3e9",
   "metadata": {},
   "source": [
    "## Exercice 10.4\n",
    "\n",
    "### 10.4.1\n",
    "\n",
    "`t` sera égal au tuple `(4, 2, 3)`"
   ]
  },
  {
   "cell_type": "code",
   "execution_count": 3,
   "id": "e0e57bb6",
   "metadata": {},
   "outputs": [
    {
     "name": "stdout",
     "output_type": "stream",
     "text": [
      "(4, 2, 3)\n"
     ]
    }
   ],
   "source": [
    "t = (1, 2, 3)\n",
    "L = list(t)\n",
    "L[0] = 4\n",
    "t = tuple(L)\n",
    "print(t)"
   ]
  },
  {
   "cell_type": "markdown",
   "id": "ae994dd2",
   "metadata": {},
   "source": [
    "### 10.4.2\n",
    "\n",
    "`d` réferencera donc un dictionnaire dont les clés sont les prénoms."
   ]
  },
  {
   "cell_type": "code",
   "execution_count": 5,
   "id": "d0694745",
   "metadata": {},
   "outputs": [
    {
     "name": "stdout",
     "output_type": "stream",
     "text": [
      "{'Tom': '0606', 'Zoe': '0605', 'Luc': '0604'}\n"
     ]
    }
   ],
   "source": [
    "d = dict([\n",
    "    ('Tom', '0606'),\n",
    "    ('Zoe', '0605'),\n",
    "    ('Luc', '0604')\n",
    "])\n",
    "print(d)"
   ]
  }
 ],
 "metadata": {
  "kernelspec": {
   "display_name": "Python 3",
   "language": "python",
   "name": "python3"
  },
  "language_info": {
   "codemirror_mode": {
    "name": "ipython",
    "version": 3
   },
   "file_extension": ".py",
   "mimetype": "text/x-python",
   "name": "python",
   "nbconvert_exporter": "python",
   "pygments_lexer": "ipython3",
   "version": "3.13.7"
  }
 },
 "nbformat": 4,
 "nbformat_minor": 5
}
