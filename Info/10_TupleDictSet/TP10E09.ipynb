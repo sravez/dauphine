{
 "cells": [
  {
   "cell_type": "markdown",
   "id": "b1b677de",
   "metadata": {},
   "source": [
    "## Exercice 10.9\n",
    "\n",
    "On peut trier les arguments avec `(args := list(args)).sort()`, peut-être cela accélère-t-il le traitement \n",
    "pour les longues...\n",
    "\n",
    "On renvoie 0 si le PGCD est indéfini"
   ]
  },
  {
   "cell_type": "code",
   "execution_count": 27,
   "id": "a90109ac",
   "metadata": {},
   "outputs": [
    {
     "name": "stdout",
     "output_type": "stream",
     "text": [
      "0\n",
      "165\n",
      "165\n",
      "165\n",
      "5\n",
      "5\n",
      "5\n"
     ]
    }
   ],
   "source": [
    "def pgcd_of_two(a: int, b: int) -> int:\n",
    "    if a == 0 and b == 0:\n",
    "        return 0 \n",
    "    while b != 0:\n",
    "        a, b = b, a % b\n",
    "    return a\n",
    "\n",
    "def pgcd(*args):\n",
    "    r = abs(args[0])\n",
    "    i = 1\n",
    "    while r != 1 and i < len(args):\n",
    "        r = pgcd_of_two(abs(args[i]), r)\n",
    "        i += 1\n",
    "    return r\n",
    "\n",
    "print(pgcd(  0, 0))\n",
    "print(pgcd(165, 0))\n",
    "print(pgcd(  0, 165))\n",
    "print(pgcd(0,0, 165))\n",
    "print(pgcd(165, 515))\n",
    "print(pgcd(165, 515, 225))\n",
    "print(pgcd(165, 515, 225, 65))"
   ]
  }
 ],
 "metadata": {
  "kernelspec": {
   "display_name": "Python 3",
   "language": "python",
   "name": "python3"
  },
  "language_info": {
   "codemirror_mode": {
    "name": "ipython",
    "version": 3
   },
   "file_extension": ".py",
   "mimetype": "text/x-python",
   "name": "python",
   "nbconvert_exporter": "python",
   "pygments_lexer": "ipython3",
   "version": "3.13.7"
  }
 },
 "nbformat": 4,
 "nbformat_minor": 5
}
