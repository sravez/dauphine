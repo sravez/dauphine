{
 "cells": [
  {
   "cell_type": "markdown",
   "id": "9acfbc6b",
   "metadata": {},
   "source": [
    "## Exercice 10.3\n",
    "\n",
    "Le programme intervertit  dans un premier temps les valeurs de $x$ et $y$\n",
    "puis assigne à $z$ le tuple $(y,x)$ donc le tuple $(x,y)$ initial.\n",
    "\n",
    "L'instruction `x = z[0]` est valide et renvoie le premier élément du tuple.\n",
    "\n",
    "L'instruction `z[0] = x` n'est pas valide car un tuple n'est pas modifiable."
   ]
  },
  {
   "cell_type": "code",
   "execution_count": null,
   "id": "c76a313a",
   "metadata": {},
   "outputs": [
    {
     "name": "stdout",
     "output_type": "stream",
     "text": [
      "12 5 (5, 12)\n",
      "z[0] = 5\n"
     ]
    },
    {
     "ename": "TypeError",
     "evalue": "'tuple' object does not support item assignment",
     "output_type": "error",
     "traceback": [
      "\u001b[31m---------------------------------------------------------------------------\u001b[39m",
      "\u001b[31mTypeError\u001b[39m                                 Traceback (most recent call last)",
      "\u001b[36mCell\u001b[39m\u001b[36m \u001b[39m\u001b[32mIn[4]\u001b[39m\u001b[32m, line 12\u001b[39m\n\u001b[32m      8\u001b[39m \u001b[38;5;28mprint\u001b[39m(x,y,z)\n\u001b[32m     10\u001b[39m \u001b[38;5;28mprint\u001b[39m(\u001b[33m\"\u001b[39m\u001b[33mz[0] =\u001b[39m\u001b[33m\"\u001b[39m,z[\u001b[32m0\u001b[39m])\n\u001b[32m---> \u001b[39m\u001b[32m12\u001b[39m \u001b[43mz\u001b[49m\u001b[43m[\u001b[49m\u001b[32;43m0\u001b[39;49m\u001b[43m]\u001b[49m = x\n",
      "\u001b[31mTypeError\u001b[39m: 'tuple' object does not support item assignment"
     ]
    }
   ],
   "source": [
    "def mystere(a,b):\n",
    "    return b,a\n",
    "\n",
    "x = 5\n",
    "y = 12\n",
    "x, y = mystere(x,y)\n",
    "z = mystere(x,y)\n",
    "print(x,y,z)\n",
    "\n",
    "print(\"z[0] =\",z[0])"
   ]
  }
 ],
 "metadata": {
  "kernelspec": {
   "display_name": "Python 3",
   "language": "python",
   "name": "python3"
  },
  "language_info": {
   "codemirror_mode": {
    "name": "ipython",
    "version": 3
   },
   "file_extension": ".py",
   "mimetype": "text/x-python",
   "name": "python",
   "nbconvert_exporter": "python",
   "pygments_lexer": "ipython3",
   "version": "3.13.7"
  }
 },
 "nbformat": 4,
 "nbformat_minor": 5
}
