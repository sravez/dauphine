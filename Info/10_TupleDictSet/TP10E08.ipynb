{
 "cells": [
  {
   "cell_type": "markdown",
   "id": "3c7be664",
   "metadata": {},
   "source": [
    "## Exercice 10.8\n",
    "\n",
    "Comme vu dans le chapitre sur la récursivité, on va utiliser la méthode itérative beaucoup plus rapide"
   ]
  },
  {
   "cell_type": "code",
   "execution_count": 13,
   "id": "4190555a",
   "metadata": {},
   "outputs": [
    {
     "name": "stdout",
     "output_type": "stream",
     "text": [
      "8\n"
     ]
    }
   ],
   "source": [
    "def calculFiboAvecTuple(coeff: tuple, vals: tuple, n):\n",
    "    if n == 0:\n",
    "        return vals[0]\n",
    "    else:\n",
    "        for i in range(n-1):\n",
    "            vals = vals[1], - coeff[0] * vals[1] - coeff[1] * vals[0]\n",
    "        return vals[1]\n",
    "\n",
    "c = -1, -1\n",
    "v =  0,  1\n",
    "print(calculFiboAvecTuple(c, v, 6))\n"
   ]
  }
 ],
 "metadata": {
  "kernelspec": {
   "display_name": "Python 3",
   "language": "python",
   "name": "python3"
  },
  "language_info": {
   "codemirror_mode": {
    "name": "ipython",
    "version": 3
   },
   "file_extension": ".py",
   "mimetype": "text/x-python",
   "name": "python",
   "nbconvert_exporter": "python",
   "pygments_lexer": "ipython3",
   "version": "3.13.7"
  }
 },
 "nbformat": 4,
 "nbformat_minor": 5
}
