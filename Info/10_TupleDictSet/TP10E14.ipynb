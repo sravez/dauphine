{
 "cells": [
  {
   "cell_type": "markdown",
   "id": "753583d5",
   "metadata": {},
   "source": [
    "## Exercice 10.14"
   ]
  },
  {
   "cell_type": "markdown",
   "id": "73737045",
   "metadata": {},
   "source": [
    "### 10.14.1"
   ]
  },
  {
   "cell_type": "code",
   "execution_count": 10,
   "id": "7082fdd7",
   "metadata": {},
   "outputs": [],
   "source": [
    "def formulaire() -> dict:\n",
    "    r = {}\n",
    "\n",
    "    r[\"nom\"]    = str(input(\"Nom Prénom      : \"))\n",
    "    r[\"age\"]    = int(input(\"Age             : \"))\n",
    "    r[\"langue\"] = str(input(\"Langues parlées : \"))\n",
    "    r[\"pays\"]   = str(input(\"Pays visités    : \"))\n",
    "    r[\"mail\"]   = str(input(\"email           : \"))\n",
    "    r[\"tel\"]    = str(input(\"N° de téléphone : \"))\n",
    "    r[\"expe\"]   = str(input(\"Expérience      : \"))\n",
    "\n",
    "    return r\n"
   ]
  },
  {
   "cell_type": "markdown",
   "id": "c658b29a",
   "metadata": {},
   "source": [
    "### 10.14.2"
   ]
  },
  {
   "cell_type": "code",
   "execution_count": 11,
   "id": "30af2fd4",
   "metadata": {},
   "outputs": [
    {
     "name": "stdout",
     "output_type": "stream",
     "text": [
      "True\n"
     ]
    }
   ],
   "source": [
    "def recevable(c: dict) -> bool:\n",
    "    l = []\n",
    "    return (c[\"age\"] <= 30 \n",
    "        and c[\"expe\"] == \"oui\"\n",
    "        and len(l:=c[\"langue\"].split(\",\")) >= 3\n",
    "        and \"espagnol\" in l)\n",
    "\n",
    "print(recevable({\n",
    "    \"age\"   : 25,\n",
    "    \"expe\"  : \"oui\",\n",
    "    \"langue\": \"italien,espagnol,francais\"\n",
    "}))"
   ]
  },
  {
   "cell_type": "markdown",
   "id": "18d5ef86",
   "metadata": {},
   "source": [
    "### 10.14.3"
   ]
  },
  {
   "cell_type": "code",
   "execution_count": 12,
   "id": "d7773690",
   "metadata": {},
   "outputs": [],
   "source": [
    "def validation(candidatures: list[dict]):\n",
    "    ok = []\n",
    "    ko = []\n",
    "    for c in candidatures:\n",
    "        if recevable(c):\n",
    "            ok.append(c)\n",
    "        else:\n",
    "            ko.append(c)\n",
    "    \n",
    "    return {\n",
    "        \"ok\": ok,\n",
    "        \"ko\": ko\n",
    "    }"
   ]
  },
  {
   "cell_type": "markdown",
   "id": "263d8f7a",
   "metadata": {},
   "source": [
    "### 10.14.4"
   ]
  },
  {
   "cell_type": "code",
   "execution_count": 13,
   "id": "f692a923",
   "metadata": {},
   "outputs": [],
   "source": [
    "def paysAL():\n",
    "    r = []\n",
    "    f = open(\"listePaysAmeriqueLatine.txt\")\n",
    "    for p in f:\n",
    "        r.append(p.rstrip(\"\\n\"))\n",
    "    f.close()\n",
    "    return r\n"
   ]
  },
  {
   "cell_type": "markdown",
   "id": "a9b5f3db",
   "metadata": {},
   "source": [
    "### 10.14.5"
   ]
  },
  {
   "cell_type": "code",
   "execution_count": 14,
   "id": "690814af",
   "metadata": {},
   "outputs": [],
   "source": [
    "pays = set(paysAL())\n",
    "def recevablePaysAL(c: dict):\n",
    "    return len(pays & set(c[\"pays\"].split(\",\"))) >= 1"
   ]
  },
  {
   "cell_type": "markdown",
   "id": "d6724a7d",
   "metadata": {},
   "source": [
    "### 10.14.6"
   ]
  },
  {
   "cell_type": "markdown",
   "id": "aca3d3ed",
   "metadata": {},
   "source": [
    "#### 10.14.6.a"
   ]
  },
  {
   "cell_type": "code",
   "execution_count": 15,
   "id": "e38ca7ed",
   "metadata": {},
   "outputs": [],
   "source": [
    "def lireCandidature(f) -> dict:\n",
    "    def line():\n",
    "        return f.readline().rstrip(\"\\n\")\n",
    "\n",
    "    fields = [\"nom\", \"age\", \"langue\", \"pays\", \"mail\", \"tel\", \"expe\"]\n",
    "    try:\n",
    "        r = {}\n",
    "        for l in fields:\n",
    "            r[l] = line()\n",
    "        r[\"age\"] = int(r[\"age\"])\n",
    "        return r\n",
    "    except:\n",
    "        return None\n",
    "\n",
    "def lireCandidatures():\n",
    "    r = []\n",
    "    f = open(\"./candidature.txt\")\n",
    "    while (c := lireCandidature(f)) != None:\n",
    "        r.append(c)\n",
    "    f.close\n",
    "    return r\n"
   ]
  },
  {
   "cell_type": "markdown",
   "id": "9dee5b5d",
   "metadata": {},
   "source": [
    "#### 10.14.6.b"
   ]
  },
  {
   "cell_type": "code",
   "execution_count": 16,
   "id": "849ca626",
   "metadata": {},
   "outputs": [],
   "source": [
    "def selection(candidatures: list[dict]):\n",
    "    return [ c for c in candidatures if recevable(c) and recevablePaysAL(c)]\n"
   ]
  },
  {
   "cell_type": "markdown",
   "id": "aa2f583b",
   "metadata": {},
   "source": [
    "#### 10.14.6.c"
   ]
  },
  {
   "cell_type": "code",
   "execution_count": 18,
   "id": "50aec845",
   "metadata": {},
   "outputs": [
    {
     "name": "stdout",
     "output_type": "stream",
     "text": [
      "Champion Adele 0607080910\n",
      "Parfaite Sylvia 0403020100\n"
     ]
    }
   ],
   "source": [
    "acceptees = selection(lireCandidatures())\n",
    "for c in acceptees:\n",
    "    print(c[\"nom\"], c[\"tel\"])"
   ]
  }
 ],
 "metadata": {
  "kernelspec": {
   "display_name": "Python 3",
   "language": "python",
   "name": "python3"
  },
  "language_info": {
   "codemirror_mode": {
    "name": "ipython",
    "version": 3
   },
   "file_extension": ".py",
   "mimetype": "text/x-python",
   "name": "python",
   "nbconvert_exporter": "python",
   "pygments_lexer": "ipython3",
   "version": "3.13.7"
  }
 },
 "nbformat": 4,
 "nbformat_minor": 5
}
