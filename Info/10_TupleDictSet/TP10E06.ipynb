{
 "cells": [
  {
   "cell_type": "markdown",
   "id": "395b14b7",
   "metadata": {},
   "source": [
    "## Exercice 10.6"
   ]
  },
  {
   "cell_type": "markdown",
   "id": "91736fe4",
   "metadata": {},
   "source": [
    "### 10.6.1 Union - Intersection\n",
    "\n",
    "On peut envisager de convertir les _lists_ en _sets_ et de renvoyer l'union des deux\n",
    "ensemble moins l'intersection ou différence symétrique.\n",
    "\n",
    "Mais cela ne fonctionne pas si l'élément manquant dans la liste la plus courte est présent\n",
    "ailleurs dans la liste car l'énoncé ne précise rien sur le sujet.\n",
    "\n",
    "Les listes suivantes présentent une différence symétrique vide quand on une lecture stricte\n",
    "de l'énoncé amène a 1 comme différence.\n",
    "\n",
    "```text\n",
    "A = [1, 4, 5, 1, 9]\n",
    "B = [   4, 5, 1, 9]\n",
    "```"
   ]
  },
  {
   "cell_type": "code",
   "execution_count": null,
   "id": "54fdbde2",
   "metadata": {},
   "outputs": [
    {
     "name": "stdout",
     "output_type": "stream",
     "text": [
      "None\n",
      "1\n"
     ]
    }
   ],
   "source": [
    "def elementManquant1(L, M):\n",
    "    S = set(L)\n",
    "    T = set(M)\n",
    "    D = list(S.symmetric_difference(T))\n",
    "\n",
    "    if len(D) == 1:\n",
    "        return D[0]\n",
    "    else:\n",
    "        return None\n",
    "\n",
    "print(elementManquant1([1, 4, 5, 1, 9],[4, 5, 1, 9]))\n",
    "print(elementManquant1([4, 5, 1, 9],[4, 5, 9]))"
   ]
  },
  {
   "cell_type": "markdown",
   "id": "092c8540",
   "metadata": {},
   "source": [
    "### 10.6.2 Par analyse des listes"
   ]
  },
  {
   "cell_type": "code",
   "execution_count": 8,
   "id": "45ebe0c7",
   "metadata": {},
   "outputs": [
    {
     "name": "stdout",
     "output_type": "stream",
     "text": [
      "None\n",
      "1\n",
      "1\n",
      "1\n",
      "1\n",
      "1\n"
     ]
    }
   ],
   "source": [
    "def elementManquant2(L, M):\n",
    "    if abs(len(L) - len(M)) != 1:\n",
    "        return None\n",
    "    elif len(L) < len(M):\n",
    "        # L est maintenant la suite la plus longue d'un élément\n",
    "        L, M = M, L\n",
    "    for i in range(len(M)):\n",
    "        if L[i] != M[i]:\n",
    "            return L[i]\n",
    "    # Si on a pas trouvé de différence, c'est le dernier élément\n",
    "    return L[-1]\n",
    "\n",
    "print(elementManquant1( [4, 5, 1, 9]   , [4, 5, 1, 9]    ))\n",
    "print(elementManquant1( [4, 5, 1, 9]   , [4, 5, 9]       ))\n",
    "print(elementManquant2( [1, 4, 5, 1, 9], [4, 5, 1, 9]    ))\n",
    "print(elementManquant2( [4, 5, 1, 9]   , [1, 4, 5, 1, 9] ))\n",
    "print(elementManquant2( [4, 5, 1, 9]   , [4, 5, 9]       ))\n",
    "print(elementManquant2( [4, 5, 9]      , [4, 5, 9, 1]    ))"
   ]
  }
 ],
 "metadata": {
  "kernelspec": {
   "display_name": "Python 3",
   "language": "python",
   "name": "python3"
  },
  "language_info": {
   "codemirror_mode": {
    "name": "ipython",
    "version": 3
   },
   "file_extension": ".py",
   "mimetype": "text/x-python",
   "name": "python",
   "nbconvert_exporter": "python",
   "pygments_lexer": "ipython3",
   "version": "3.13.7"
  }
 },
 "nbformat": 4,
 "nbformat_minor": 5
}
