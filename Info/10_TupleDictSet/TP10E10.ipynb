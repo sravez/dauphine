{
 "cells": [
  {
   "cell_type": "markdown",
   "id": "8d1b608a",
   "metadata": {},
   "source": [
    "## Exercice 1.10"
   ]
  },
  {
   "cell_type": "markdown",
   "id": "a6050841",
   "metadata": {},
   "source": [
    "### 1.10.1"
   ]
  },
  {
   "cell_type": "code",
   "execution_count": 15,
   "id": "9e065532",
   "metadata": {},
   "outputs": [
    {
     "name": "stdout",
     "output_type": "stream",
     "text": [
      "{'t': 2, 'o': 2}\n",
      "{'t': 2, 'o': 2}\n"
     ]
    }
   ],
   "source": [
    "'''\n",
    "    La fonction suivante est très concise mais les appels multiples\n",
    "    à `count()` peuvent être coûteux en ressources, peut-être vaut-il\n",
    "    mieux itérer sur les caractères de s.\n",
    "'''\n",
    "def nbOccu(s: str) -> dict[str, int]:\n",
    "    return { c: s.count(c) for c in set(s) }\n",
    "\n",
    "def nbOccu2(s: str) -> dict[str, int]:\n",
    "    r = {}\n",
    "    for c in s:\n",
    "        if c in r:\n",
    "            r[c] +=1\n",
    "        else:\n",
    "            r[c] =1\n",
    "    return r\n",
    "\n",
    "print(nbOccu('toto'))\n",
    "print(nbOccu2('toto'))"
   ]
  },
  {
   "cell_type": "markdown",
   "id": "a09c5b79",
   "metadata": {},
   "source": [
    "### 1.10.2\n"
   ]
  },
  {
   "cell_type": "code",
   "execution_count": null,
   "id": "46ea8aef",
   "metadata": {},
   "outputs": [
    {
     "name": "stdout",
     "output_type": "stream",
     "text": [
      "o 2\n",
      "t 2\n"
     ]
    }
   ],
   "source": [
    "def display_sorted_dict(d: dict[str, any]):\n",
    "    for k in sorted(d):\n",
    "        print(k, d[k])\n",
    "    \n",
    "display_sorted_dict(nbOccu(\"toto\"))"
   ]
  }
 ],
 "metadata": {
  "kernelspec": {
   "display_name": "Python 3",
   "language": "python",
   "name": "python3"
  },
  "language_info": {
   "codemirror_mode": {
    "name": "ipython",
    "version": 3
   },
   "file_extension": ".py",
   "mimetype": "text/x-python",
   "name": "python",
   "nbconvert_exporter": "python",
   "pygments_lexer": "ipython3",
   "version": "3.13.7"
  }
 },
 "nbformat": 4,
 "nbformat_minor": 5
}
