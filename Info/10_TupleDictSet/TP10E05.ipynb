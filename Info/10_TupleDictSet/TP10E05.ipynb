{
 "cells": [
  {
   "cell_type": "markdown",
   "id": "44b196ca",
   "metadata": {},
   "source": [
    "## Exercice 10.5\n",
    "\n",
    "1. `(s1|s2)` est l'union des 2 _sets_ (`= s1.union(s2)`)\n",
    "2. `(s1&s2)` est l'intersection des 2 _sets_ (`= s1.intersection(s2)`)\n",
    "3. `(s1-s2)` est la soustraction (`= s1.difference(s2)`)\n",
    "4. `s1.union(s2) >= s2` est vraie car $s2$ est inclus dans l'union\n",
    "5. `s1.union(s2) <= s2` est fausse car l'union n'est pas incluse dans $s2$\n",
    "6. `s1.intersection(s2) >= s2` est fausse car $s2$ n'est pas incluse dans l'intersection\n",
    "7. `s1.intersection(s2) <= s2` est vraie car l'intersection est incluse dans $s2$\n"
   ]
  },
  {
   "cell_type": "code",
   "execution_count": 6,
   "id": "61940341",
   "metadata": {},
   "outputs": [
    {
     "name": "stdout",
     "output_type": "stream",
     "text": [
      "{0, 1, 3, 4, 5, 6, 7, 8, 9, 10}\n",
      "{0, 1, 3, 4, 5, 6, 7, 8, 9, 10}\n",
      "{1, 3}\n",
      "{1, 3}\n",
      "{8, 4, 5, 7}\n",
      "{8, 4, 5, 7}\n",
      "True\n",
      "False\n",
      "False\n",
      "True\n"
     ]
    }
   ],
   "source": [
    "# sets\n",
    "s1 = {1, 3, 4, 5, 7, 8}\n",
    "s2 = {0, 1, 3, 6, 9, 10}\n",
    "\n",
    "# Union\n",
    "print(s1 | s2)\n",
    "print(s1.union(s2))\n",
    "\n",
    "# Intersection\n",
    "print(s1 & s2)\n",
    "print(s1.intersection(s2))\n",
    "\n",
    "# Soustraction\n",
    "print(s1 - s2)\n",
    "print(s1.difference(s2))\n",
    "\n",
    "print(s1.union(s2) >= s2)\n",
    "print(s1.union(s2) <= s2)\n",
    "\n",
    "print(s1.intersection(s2) >= s2)\n",
    "print(s1.intersection(s2) <= s2)"
   ]
  }
 ],
 "metadata": {
  "kernelspec": {
   "display_name": "Python 3",
   "language": "python",
   "name": "python3"
  },
  "language_info": {
   "codemirror_mode": {
    "name": "ipython",
    "version": 3
   },
   "file_extension": ".py",
   "mimetype": "text/x-python",
   "name": "python",
   "nbconvert_exporter": "python",
   "pygments_lexer": "ipython3",
   "version": "3.13.7"
  }
 },
 "nbformat": 4,
 "nbformat_minor": 5
}
