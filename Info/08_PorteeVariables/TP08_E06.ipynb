{
 "cells": [
  {
   "cell_type": "markdown",
   "id": "33f34427",
   "metadata": {},
   "source": [
    "# Exercice 8.6\n",
    "\n",
    "L'exécution de `g` incrémente `x` et affiche `[1,4,4]`.\n",
    "\n",
    "L'exécution de `f` affiche `[1,6,4]`, le deuxième élément étant `x+1`"
   ]
  },
  {
   "cell_type": "code",
   "execution_count": 1,
   "id": "aa60fb98",
   "metadata": {},
   "outputs": [
    {
     "name": "stdout",
     "output_type": "stream",
     "text": [
      "[1, 4, 4]\n",
      "[1, 6, 4]\n"
     ]
    }
   ],
   "source": [
    "def f():\n",
    "    L = [1,x,4]\n",
    "    L[1] += 1\n",
    "    print(L)\n",
    "def g():\n",
    "    global x\n",
    "    L = [1,x,4]\n",
    "    x += 1\n",
    "    print(L)\n",
    "\n",
    "x = 4\n",
    "g()\n",
    "f()"
   ]
  }
 ],
 "metadata": {
  "kernelspec": {
   "display_name": "Python 3",
   "language": "python",
   "name": "python3"
  },
  "language_info": {
   "codemirror_mode": {
    "name": "ipython",
    "version": 3
   },
   "file_extension": ".py",
   "mimetype": "text/x-python",
   "name": "python",
   "nbconvert_exporter": "python",
   "pygments_lexer": "ipython3",
   "version": "3.13.7"
  }
 },
 "nbformat": 4,
 "nbformat_minor": 5
}
