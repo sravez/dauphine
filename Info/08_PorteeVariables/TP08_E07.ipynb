{
 "cells": [
  {
   "cell_type": "markdown",
   "id": "8272aa56",
   "metadata": {},
   "source": [
    "# Exercice 8.7\n",
    "\n",
    "`pong` invoque la variable globale `w` qui n'existe pas et n'utilise pas son argument `y`.\n",
    "\n",
    "On effectue les modifications suivantes :\n",
    "- renommage de l'argument de `y` en `w``\n",
    "- suppression de `global w`"
   ]
  },
  {
   "cell_type": "code",
   "execution_count": 2,
   "id": "f6962d4f",
   "metadata": {},
   "outputs": [
    {
     "name": "stdout",
     "output_type": "stream",
     "text": [
      "110003\n"
     ]
    }
   ],
   "source": [
    "def ping(w):\n",
    "    if w>= 10:\n",
    "        return 1\n",
    "    w += 1\n",
    "    res = pong(w+1)\n",
    "    print(0, end=\"\")\n",
    "    return res\n",
    "\n",
    "def pong(w):\n",
    "    if w >= 10:\n",
    "        return 3\n",
    "    if w < 0:\n",
    "        return 2\n",
    "    w -= 1\n",
    "    print(1, end='')\n",
    "    return ping(w+1)\n",
    "\n",
    "print(ping(4))"
   ]
  }
 ],
 "metadata": {
  "kernelspec": {
   "display_name": "Python 3",
   "language": "python",
   "name": "python3"
  },
  "language_info": {
   "codemirror_mode": {
    "name": "ipython",
    "version": 3
   },
   "file_extension": ".py",
   "mimetype": "text/x-python",
   "name": "python",
   "nbconvert_exporter": "python",
   "pygments_lexer": "ipython3",
   "version": "3.13.7"
  }
 },
 "nbformat": 4,
 "nbformat_minor": 5
}
