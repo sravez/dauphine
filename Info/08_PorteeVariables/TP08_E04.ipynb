{
 "cells": [
  {
   "cell_type": "markdown",
   "id": "0278da6f",
   "metadata": {},
   "source": [
    "# Exercice 8.4\n",
    "\n",
    "Il n'affiche rien sauf une **erreur** car la variable `y` est assignée sans que `global y` ne soit invoquée.\n",
    "Il s'agit donc d'une variable locale (masquant la variable globale) qui ne peut être lue\n",
    "(dans les conditions) avant d'être initialisée."
   ]
  },
  {
   "cell_type": "code",
   "execution_count": null,
   "id": "e1b70bb4",
   "metadata": {},
   "outputs": [],
   "source": [
    "def gamma(x):\n",
    "    global eps\n",
    "    if x+eps > 0:\n",
    "        print(y)\n",
    "    elif x+eps < y:\n",
    "        eps -= 1\n",
    "\n",
    "    if x+y < eps:\n",
    "        x += 3\n",
    "    if 1 < 0:\n",
    "        y += 1\n",
    "    return x+y+eps\n",
    "\n",
    "y = 2\n",
    "x = 1\n",
    "eps = 0.5\n",
    "print(gamma(x))"
   ]
  }
 ],
 "metadata": {
  "kernelspec": {
   "display_name": "Python 3",
   "language": "python",
   "name": "python3"
  },
  "language_info": {
   "codemirror_mode": {
    "name": "ipython",
    "version": 3
   },
   "file_extension": ".py",
   "mimetype": "text/x-python",
   "name": "python",
   "nbconvert_exporter": "python",
   "pygments_lexer": "ipython3",
   "version": "3.13.7"
  }
 },
 "nbformat": 4,
 "nbformat_minor": 5
}
