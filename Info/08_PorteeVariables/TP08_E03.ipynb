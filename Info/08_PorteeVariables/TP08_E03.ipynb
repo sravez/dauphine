{
 "cells": [
  {
   "cell_type": "markdown",
   "id": "adb49486",
   "metadata": {},
   "source": [
    "# Exercice 8.3 "
   ]
  },
  {
   "cell_type": "markdown",
   "id": "ecaf9777",
   "metadata": {},
   "source": [
    "## 8.3.1\n",
    "\n",
    "`M` est inchangée car les arguments d'une fonction peuvent être modifiés au sein de la fonction mais _reprennent_\n",
    "leur valeur initiale une fois l'exécution de la fonction achevée : on travaille sur une copie de l'argument. Argument qui est la référence vers l'objet liste d'origine qui n'est lui pas modifié."
   ]
  },
  {
   "cell_type": "code",
   "execution_count": 16,
   "id": "e5606637",
   "metadata": {},
   "outputs": [
    {
     "name": "stdout",
     "output_type": "stream",
     "text": [
      "[1]\n"
     ]
    }
   ],
   "source": [
    "def ajout(L, x):\n",
    "    L = L + [x]\n",
    "\n",
    "M = [1]\n",
    "ajout(M,2)\n",
    "print(M)\n"
   ]
  },
  {
   "cell_type": "markdown",
   "id": "65aaf759",
   "metadata": {},
   "source": [
    "## 8.3.2\n",
    "\n",
    "Ici, `M` (ou, pour être rigoureux, la liste référencée par `M`) est modifiée car les arguments de liste sont passés par référence et non par valeur : on ne modifie pas ici `L`  (on n'écrit pas `L = ...`) mais le contenu de l'objet vers lequel elle pointe. "
   ]
  },
  {
   "cell_type": "code",
   "execution_count": 10,
   "id": "2308a504",
   "metadata": {},
   "outputs": [
    {
     "name": "stdout",
     "output_type": "stream",
     "text": [
      "[1, 2]\n"
     ]
    }
   ],
   "source": [
    "def ajout2(L, x):\n",
    "    L.append(x)\n",
    "\n",
    "M = [1]\n",
    "ajout2(M,2)\n",
    "print(M)"
   ]
  },
  {
   "cell_type": "markdown",
   "id": "e8f705b4",
   "metadata": {},
   "source": [
    "## 8.3.3\n",
    "\n",
    "La variable globale `M` n'étant pas masquée par une variable locale, l'ajout d'élément s'effectue bien sur elle."
   ]
  },
  {
   "cell_type": "code",
   "execution_count": 12,
   "id": "553c6319",
   "metadata": {},
   "outputs": [
    {
     "name": "stdout",
     "output_type": "stream",
     "text": [
      "[1, 2]\n"
     ]
    }
   ],
   "source": [
    "def ajout3(x):\n",
    "    M.append(x)\n",
    "\n",
    "M = [1]\n",
    "ajout3(2)\n",
    "print(M)"
   ]
  },
  {
   "cell_type": "markdown",
   "id": "55daecc7",
   "metadata": {},
   "source": [
    "## 8.3.4\n",
    "\n",
    "On rencontre ici une **erreur** car, en l'absence de `global M`, l'assignation d'une valeur à `M` crée une variable locale qui masque la variable globale et qui n'est pas initalisée avant d'être lue (le `M` de `M+[x]')"
   ]
  },
  {
   "cell_type": "code",
   "execution_count": null,
   "id": "55c84b0b",
   "metadata": {},
   "outputs": [],
   "source": [
    "def ajout4(x):\n",
    "    M = M + [x]\n",
    "\n",
    "M = [1]\n",
    "ajout4(2)\n",
    "print(M)"
   ]
  },
  {
   "cell_type": "markdown",
   "id": "ae79ac89",
   "metadata": {},
   "source": [
    "## 8.3.5\n",
    "\n",
    "Grâce à `global M`, `M` est modifié (et pas l'objet vers lequel elle pointait, cf. bonus **8.3.6**)"
   ]
  },
  {
   "cell_type": "code",
   "execution_count": 19,
   "id": "d90dc8dc",
   "metadata": {},
   "outputs": [
    {
     "name": "stdout",
     "output_type": "stream",
     "text": [
      "[1, 2]\n"
     ]
    }
   ],
   "source": [
    "def ajout5(x):\n",
    "    global M\n",
    "    M = M + [x]\n",
    "\n",
    "M = [1]\n",
    "ajout5(2)\n",
    "print(M)"
   ]
  },
  {
   "cell_type": "markdown",
   "id": "977f8825",
   "metadata": {},
   "source": [
    "## 8.3.6\n",
    "\n",
    "L'exemple ci-dessous illustre bien que l'on a, dans l'exemple précédent, créé un nouvel objet liste et\n",
    "qu'on a assigné sa référence à `M` sans modifié la liste originale toujours référencée par `N`."
   ]
  },
  {
   "cell_type": "code",
   "execution_count": 20,
   "id": "b5197416",
   "metadata": {},
   "outputs": [
    {
     "name": "stdout",
     "output_type": "stream",
     "text": [
      "[1, 2]\n",
      "[1]\n"
     ]
    }
   ],
   "source": [
    "M = [1]\n",
    "N = M\n",
    "ajout5(2)\n",
    "print(M)\n",
    "print(N)"
   ]
  }
 ],
 "metadata": {
  "kernelspec": {
   "display_name": "Python 3",
   "language": "python",
   "name": "python3"
  },
  "language_info": {
   "codemirror_mode": {
    "name": "ipython",
    "version": 3
   },
   "file_extension": ".py",
   "mimetype": "text/x-python",
   "name": "python",
   "nbconvert_exporter": "python",
   "pygments_lexer": "ipython3",
   "version": "3.13.7"
  }
 },
 "nbformat": 4,
 "nbformat_minor": 5
}
