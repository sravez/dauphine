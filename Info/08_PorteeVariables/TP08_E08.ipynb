{
 "cells": [
  {
   "cell_type": "code",
   "execution_count": null,
   "id": "cabbc48a",
   "metadata": {},
   "outputs": [],
   "source": [
    "# Exercice 8.8"
   ]
  },
  {
   "cell_type": "markdown",
   "id": "32648c56",
   "metadata": {},
   "source": [
    "## 8.8.1 Échange de valeurs"
   ]
  },
  {
   "cell_type": "code",
   "execution_count": null,
   "id": "54100d33",
   "metadata": {},
   "outputs": [],
   "source": [
    "def echange1(a,b):\n",
    "    c = a\n",
    "    a = b\n",
    "    b = c\n",
    "\n",
    "def echange2(a,b):\n",
    "    a, b = b, a\n",
    "\n"
   ]
  },
  {
   "cell_type": "markdown",
   "id": "2e7b18b1",
   "metadata": {},
   "source": [
    "## 8.8.2\n",
    "\n",
    "`echange1()` modifie ses arguments mais ces modifications ne sont pas persistantes : les variables globales\n",
    "`a` et `b` ne sont pas modifiées"
   ]
  },
  {
   "cell_type": "code",
   "execution_count": null,
   "id": "ac0100f5",
   "metadata": {},
   "outputs": [],
   "source": [
    "a = \"a\"\n",
    "b = \"b\"\n",
    "echange1(a,b)\n",
    "print(\"a =\",a)\n",
    "print(\"b =\",b)"
   ]
  },
  {
   "cell_type": "markdown",
   "id": "61205e45",
   "metadata": {},
   "source": [
    "## 8.8.3"
   ]
  },
  {
   "cell_type": "code",
   "execution_count": 6,
   "id": "f259b95b",
   "metadata": {},
   "outputs": [
    {
     "name": "stdout",
     "output_type": "stream",
     "text": [
      "a = b\n",
      "b = a\n"
     ]
    }
   ],
   "source": [
    "def echange12(a,b):\n",
    "    return (b, a)\n",
    "\n",
    "a = \"a\"\n",
    "b = \"b\"\n",
    "a, b = echange12(a,b)\n",
    "print(\"a =\",a)\n",
    "print(\"b =\",b)\n"
   ]
  },
  {
   "cell_type": "markdown",
   "id": "722f7b6e",
   "metadata": {},
   "source": [
    "## 8.8.4"
   ]
  },
  {
   "cell_type": "code",
   "execution_count": 7,
   "id": "32c59c21",
   "metadata": {},
   "outputs": [
    {
     "name": "stdout",
     "output_type": "stream",
     "text": [
      "[3, 2]\n"
     ]
    }
   ],
   "source": [
    "def echangeListe(L):\n",
    "    L[0], L[1] = L[1], L[0]\n",
    "\n",
    "L = [2,3]\n",
    "echangeListe(L)\n",
    "print(L)"
   ]
  },
  {
   "cell_type": "markdown",
   "id": "7767daae",
   "metadata": {},
   "source": [
    "## 8.8.5"
   ]
  },
  {
   "cell_type": "code",
   "execution_count": 8,
   "id": "a72b1bb3",
   "metadata": {},
   "outputs": [
    {
     "name": "stdout",
     "output_type": "stream",
     "text": [
      "a = 3\n",
      "b = 2\n"
     ]
    }
   ],
   "source": [
    "def echangeAB():\n",
    "    global a\n",
    "    global b\n",
    "    tmp = a\n",
    "    a = b\n",
    "    b = tmp\n",
    "\n",
    "a = 2\n",
    "b = 3\n",
    "echangeAB()\n",
    "print(\"a =\",a)\n",
    "print(\"b =\",b)"
   ]
  }
 ],
 "metadata": {
  "kernelspec": {
   "display_name": "Python 3",
   "language": "python",
   "name": "python3"
  },
  "language_info": {
   "codemirror_mode": {
    "name": "ipython",
    "version": 3
   },
   "file_extension": ".py",
   "mimetype": "text/x-python",
   "name": "python",
   "nbconvert_exporter": "python",
   "pygments_lexer": "ipython3",
   "version": "3.13.7"
  }
 },
 "nbformat": 4,
 "nbformat_minor": 5
}
