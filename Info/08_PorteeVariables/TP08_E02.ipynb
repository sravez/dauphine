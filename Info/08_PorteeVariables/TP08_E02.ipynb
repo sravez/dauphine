{
 "cells": [
  {
   "cell_type": "markdown",
   "id": "737c463e",
   "metadata": {},
   "source": [
    "# Exercice 8.2"
   ]
  },
  {
   "cell_type": "markdown",
   "id": "5a65c719",
   "metadata": {},
   "source": [
    "## Programme 1\n",
    "\n",
    "La fonction `f` incrémente de 1 son argument et assigne cette valeur à la variable globale `c` qui évolue donc de 0 à 5.\n",
    "\n",
    "Par contre la variable `p` dans `f()` (à laquelle est assigné le double de la valeur de la variable globale `p` renvoyé par `gp()`) **est locale** (car on a pas utilisé l'instruction `global p`), la valeur de la variable globale reste donc inchangée et `f()` renvoie donc toujours la même valeur 2.\n"
   ]
  },
  {
   "cell_type": "code",
   "execution_count": null,
   "id": "5ec31732",
   "metadata": {},
   "outputs": [
    {
     "ename": "UnboundLocalError",
     "evalue": "cannot access local variable 'p' where it is not associated with a value",
     "output_type": "error",
     "traceback": [
      "\u001b[31m---------------------------------------------------------------------------\u001b[39m",
      "\u001b[31mUnboundLocalError\u001b[39m                         Traceback (most recent call last)",
      "\u001b[36mCell\u001b[39m\u001b[36m \u001b[39m\u001b[32mIn[11]\u001b[39m\u001b[32m, line 17\u001b[39m\n\u001b[32m     15\u001b[39m p = \u001b[32m1\u001b[39m\n\u001b[32m     16\u001b[39m \u001b[38;5;28;01mfor\u001b[39;00m i \u001b[38;5;129;01min\u001b[39;00m \u001b[38;5;28mrange\u001b[39m(\u001b[32m5\u001b[39m):\n\u001b[32m---> \u001b[39m\u001b[32m17\u001b[39m     n = \u001b[43mf\u001b[49m\u001b[43m(\u001b[49m\u001b[43mi\u001b[49m\u001b[43m)\u001b[49m\n\u001b[32m     18\u001b[39m     \u001b[38;5;28mprint\u001b[39m(c,n)\n",
      "\u001b[36mCell\u001b[39m\u001b[36m \u001b[39m\u001b[32mIn[11]\u001b[39m\u001b[32m, line 11\u001b[39m, in \u001b[36mf\u001b[39m\u001b[34m(n)\u001b[39m\n\u001b[32m      9\u001b[39m c = n + \u001b[32m1\u001b[39m\n\u001b[32m     10\u001b[39m \u001b[38;5;66;03m#p = gp() * 2\u001b[39;00m\n\u001b[32m---> \u001b[39m\u001b[32m11\u001b[39m p = \u001b[43mp\u001b[49m * \u001b[32m2\u001b[39m\n\u001b[32m     12\u001b[39m \u001b[38;5;28;01mreturn\u001b[39;00m p\n",
      "\u001b[31mUnboundLocalError\u001b[39m: cannot access local variable 'p' where it is not associated with a value"
     ]
    }
   ],
   "source": [
    "# Programme 1\n",
    "\n",
    "def gp():\n",
    "    global p\n",
    "    return p\n",
    "\n",
    "def f(n):\n",
    "    global c\n",
    "    c = n + 1\n",
    "    p = gp() * 2\n",
    "    return p\n",
    "\n",
    "c = 0\n",
    "p = 1\n",
    "for i in range(5):\n",
    "    n = f(i)\n",
    "    print(c,n)"
   ]
  },
  {
   "cell_type": "markdown",
   "id": "6313207f",
   "metadata": {},
   "source": [
    "## Programme 2\n",
    "\n",
    "Grâcé à l'instruction `global p` dans `f()`, la variable `p` est globale et est donc modifiée (doublée) à chaque appel."
   ]
  },
  {
   "cell_type": "code",
   "execution_count": 10,
   "id": "13a34375",
   "metadata": {},
   "outputs": [
    {
     "name": "stdout",
     "output_type": "stream",
     "text": [
      "1 2\n",
      "2 4\n",
      "3 8\n",
      "4 16\n",
      "5 32\n"
     ]
    }
   ],
   "source": [
    "# Programme 2\n",
    "\n",
    "def gp():\n",
    "    global p\n",
    "    return p\n",
    "\n",
    "def f(n):\n",
    "    global c, p\n",
    "    c = n + 1\n",
    "    p = gp() * 2\n",
    "    return p\n",
    "\n",
    "c = 0\n",
    "p = 1\n",
    "for i in range(5):\n",
    "    n = f(i)\n",
    "    print(c,n)"
   ]
  }
 ],
 "metadata": {
  "kernelspec": {
   "display_name": "Python 3",
   "language": "python",
   "name": "python3"
  },
  "language_info": {
   "codemirror_mode": {
    "name": "ipython",
    "version": 3
   },
   "file_extension": ".py",
   "mimetype": "text/x-python",
   "name": "python",
   "nbconvert_exporter": "python",
   "pygments_lexer": "ipython3",
   "version": "3.13.7"
  }
 },
 "nbformat": 4,
 "nbformat_minor": 5
}
