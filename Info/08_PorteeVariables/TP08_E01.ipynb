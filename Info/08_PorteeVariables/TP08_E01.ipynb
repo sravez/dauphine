{
 "cells": [
  {
   "cell_type": "markdown",
   "id": "44f0d03c",
   "metadata": {},
   "source": [
    "# Exercice 8.1"
   ]
  },
  {
   "cell_type": "markdown",
   "id": "b0eca7f4",
   "metadata": {},
   "source": [
    "## Programme 1\n",
    "\n",
    "La fonction `f` affecte à la variable globale `c` son argument augmenté de 1 et renvoie le double de la valeur de `p` sans la modifier\n",
    "\n",
    "Comme elle est appelée 5 fois avec les valeurs de 0 à 4, `c` vaut 1, 2,..., 5  et `p` reste inchangée après chaque appel de `f`."
   ]
  },
  {
   "cell_type": "code",
   "execution_count": 3,
   "id": "5ae17289",
   "metadata": {},
   "outputs": [
    {
     "name": "stdout",
     "output_type": "stream",
     "text": [
      "1 2\n",
      "2 2\n",
      "3 2\n",
      "4 2\n",
      "5 2\n"
     ]
    }
   ],
   "source": [
    "# Programme 1\n",
    "def f(n):\n",
    "    global c, p\n",
    "    c = n + 1\n",
    "    return p * 2\n",
    "\n",
    "c = 0\n",
    "p = 1\n",
    "for i in range(5):\n",
    "    n = f(i)\n",
    "    print(c,n)"
   ]
  },
  {
   "cell_type": "markdown",
   "id": "f58211a2",
   "metadata": {},
   "source": [
    "## Programme 2\n",
    "\n",
    "À la différence du 1er programme, ce programme modifie la valeur de `p` (multipliée successivement et 5 fois par 2) et renvoie la valeur modifiée."
   ]
  },
  {
   "cell_type": "code",
   "execution_count": 4,
   "id": "f3b8d0a4",
   "metadata": {},
   "outputs": [
    {
     "name": "stdout",
     "output_type": "stream",
     "text": [
      "1 2\n",
      "2 4\n",
      "3 8\n",
      "4 16\n",
      "5 32\n"
     ]
    }
   ],
   "source": [
    "# Programme 2\n",
    "def f(n):\n",
    "    global c, p\n",
    "    c = n + 1\n",
    "    p = p * 2\n",
    "    return p\n",
    "\n",
    "c = 0\n",
    "p = 1\n",
    "for i in range(5):\n",
    "    n = f(i)\n",
    "    print(c,n)"
   ]
  }
 ],
 "metadata": {
  "kernelspec": {
   "display_name": "Python 3",
   "language": "python",
   "name": "python3"
  },
  "language_info": {
   "codemirror_mode": {
    "name": "ipython",
    "version": 3
   },
   "file_extension": ".py",
   "mimetype": "text/x-python",
   "name": "python",
   "nbconvert_exporter": "python",
   "pygments_lexer": "ipython3",
   "version": "3.13.7"
  }
 },
 "nbformat": 4,
 "nbformat_minor": 5
}
