{
 "cells": [
  {
   "cell_type": "markdown",
   "id": "53093aeb",
   "metadata": {},
   "source": [
    "# Exercice 8.9 Mastermind"
   ]
  },
  {
   "cell_type": "markdown",
   "id": "c0d05074",
   "metadata": {},
   "source": [
    "## 8.9.1 Génération de la combinaison secrète"
   ]
  },
  {
   "cell_type": "code",
   "execution_count": 23,
   "id": "58d6be81",
   "metadata": {},
   "outputs": [],
   "source": [
    "from random import randint\n",
    "\n",
    "def genere(n:int, b: int) -> list[int]:\n",
    "    return [ randint(1,b) for _ in range(n) ]"
   ]
  },
  {
   "cell_type": "markdown",
   "id": "4ff21ba6",
   "metadata": {},
   "source": [
    "## 8.9.2 Conversion de la tentative"
   ]
  },
  {
   "cell_type": "code",
   "execution_count": 24,
   "id": "e32fe0f6",
   "metadata": {},
   "outputs": [
    {
     "data": {
      "text/plain": [
       "'\\nn = 4\\nt = str(input(f\"Saisir un chiffre de {n} chiffres : \"))\\nprint(enTableau(t))\\n'"
      ]
     },
     "execution_count": 24,
     "metadata": {},
     "output_type": "execute_result"
    }
   ],
   "source": [
    "def enTableau(T: str) -> list[int]:\n",
    "    return [ int(c) for c in T ]\n",
    "\n",
    "'''\n",
    "n = 4\n",
    "t = str(input(f\"Saisir un chiffre de {n} chiffres : \"))\n",
    "print(enTableau(t))\n",
    "'''\n"
   ]
  },
  {
   "cell_type": "markdown",
   "id": "b0a62ef2",
   "metadata": {},
   "source": [
    "## 8.9. Copie d'une liste"
   ]
  },
  {
   "cell_type": "code",
   "execution_count": 25,
   "id": "89a7edbe",
   "metadata": {},
   "outputs": [],
   "source": [
    "def copie(source: list) -> list:\n",
    "    return source.copy()"
   ]
  },
  {
   "cell_type": "markdown",
   "id": "01472b05",
   "metadata": {},
   "source": [
    "## 8.9.4 Vérification d'une tentative"
   ]
  },
  {
   "cell_type": "code",
   "execution_count": 26,
   "id": "a54539fd",
   "metadata": {},
   "outputs": [],
   "source": [
    "def verification(secret: list[int], tentative: list[int]) -> [int, int]:\n",
    "    S = secret.copy()\n",
    "    T = tentative.copy()\n",
    "\n",
    "    bien = 0\n",
    "    mal = 0\n",
    "\n",
    "    for i in range(len(S)):\n",
    "        if S[i] == T[i]:\n",
    "            bien += 1\n",
    "            T[i] = 0\n",
    "            S[i] = 0\n",
    "\n",
    "    for s in S:\n",
    "        if s == 0:\n",
    "            continue\n",
    "        else:\n",
    "            for j in range(len(T)):\n",
    "                if s == T[j]:\n",
    "                    mal += 1\n",
    "                    T[j] = 0\n",
    "                    break\n",
    "    \n",
    "    return [bien, mal]\n"
   ]
  },
  {
   "cell_type": "markdown",
   "id": "098803e2",
   "metadata": {},
   "source": [
    "## 8.9.5 MasterMind"
   ]
  },
  {
   "cell_type": "code",
   "execution_count": 30,
   "id": "b253e56c",
   "metadata": {},
   "outputs": [
    {
     "name": "stdout",
     "output_type": "stream",
     "text": [
      "MasterMind\n",
      "\n",
      "Vous avez 10 tentatives pour trouver une combinaison de 5 chiffres compris entre 1 et 6.\n",
      "\n",
      "12345 -> 1 2\n",
      "23451 -> 2 1\n",
      "11111 -> 1 0\n",
      "22222 -> 1 0\n",
      "33333 -> 0 0\n",
      "44444 -> 0 0\n",
      "55555 -> 3 0\n",
      "55521 -> 3 2\n",
      "12555 -> 3 2\n",
      "15255 -> 1 4\n",
      "PERDU\n",
      "La combinaison était : 52551\n"
     ]
    }
   ],
   "source": [
    "def get_attempt(attempt: int, code_length: int, digit_max: int) -> list[int]:\n",
    "    r = []\n",
    "    while len(r) < code_length:\n",
    "        s = str(input(f\"Tentative {attempt: 2d} :\"))\n",
    "        r = [ int(c) for c in s  if 0 < int(c) <= digit_max]\n",
    "    return s, r\n",
    "\n",
    "def mastermind(code_length: int, digit_max: int, attempts: int):\n",
    "    secret = genere(code_length, digit_max)\n",
    "    print(\"MasterMind\")\n",
    "    print(f\"\\nVous avez {attempts} tentatives pour trouver une combinaison de {code_length} chiffres compris entre 1 et {digit_max}.\\n\")\n",
    "    attempt_result = [0,0]\n",
    "    attempt = 0\n",
    "    while attempt < attempts and attempt_result[0] != code_length:\n",
    "        s, a = get_attempt(attempt+1, code_length, digit_max)\n",
    "        attempt_result = verification(secret, a)\n",
    "        print(f\"{s} -> {attempt_result[0]} {attempt_result[1]}\")\n",
    "        attempt += 1\n",
    "\n",
    "    if attempt_result[0] == code_length:\n",
    "        print(f\"GAGNÉ en {attempt} tentative\")\n",
    "    else:\n",
    "        print(\"PERDU\")\n",
    "        print(\"La combinaison était :\", \"\".join([str(i) for i in secret]))\n",
    "\n",
    "mastermind(5, 6, 10)    "
   ]
  }
 ],
 "metadata": {
  "kernelspec": {
   "display_name": "Python 3",
   "language": "python",
   "name": "python3"
  },
  "language_info": {
   "codemirror_mode": {
    "name": "ipython",
    "version": 3
   },
   "file_extension": ".py",
   "mimetype": "text/x-python",
   "name": "python",
   "nbconvert_exporter": "python",
   "pygments_lexer": "ipython3",
   "version": "3.13.7"
  }
 },
 "nbformat": 4,
 "nbformat_minor": 5
}
