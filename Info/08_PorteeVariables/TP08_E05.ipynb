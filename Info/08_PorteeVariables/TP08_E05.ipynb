{
 "cells": [
  {
   "cell_type": "markdown",
   "id": "eb499397",
   "metadata": {},
   "source": [
    "# Exercice 8.5 - Jeu Mastermind\n",
    "\n",
    "On remarquera que la problématique est symétrique : le résultat ne change pas si on intervertit secret et proposition."
   ]
  },
  {
   "cell_type": "markdown",
   "id": "f64c3415",
   "metadata": {},
   "source": [
    "## 8.5.1 Pseudo-code de `bienPaces()`\n",
    "\n",
    "Il suffit de vérifier combien d'éléments de même indice sont égaux\n",
    "\n",
    "```text\n",
    "bienPlaces1()\n",
    "------------ \n",
    "Secr: int[n] # Combinaison secrète\n",
    "Test: int[n] # Tentative\n",
    "------------\n",
    "result <- 0\n",
    "i <- 0\n",
    "while i < n\n",
    "    if Test[i] = Secr[i]\n",
    "        result <- result + 1\n",
    "    i <- i + 1\n",
    "return result\n",
    "```\n"
   ]
  },
  {
   "cell_type": "code",
   "execution_count": 30,
   "id": "bdf10472",
   "metadata": {},
   "outputs": [],
   "source": [
    "from random import randint\n",
    "\n",
    "def combinaison(n:int, b: int) -> list[int]:\n",
    "    return [ randint(1,b) for _ in range(n)]\n",
    "\n",
    "def bienPlaces(Secr: list[int], Test: list[int]):\n",
    "    r = 0\n",
    "    for i in range(len(Secr)):\n",
    "        if Test[i]==Secr[i]:\n",
    "            r += 1\n",
    "    return r"
   ]
  },
  {
   "cell_type": "markdown",
   "id": "00213cdc",
   "metadata": {},
   "source": [
    "## 8.5.2 Pseudo-code de `malPlaces()`\n",
    "\n",
    "Si on définit par \"mal placé\" un élément de la proposition qui est présent dans le secret mais pas à la même place, le pseudo-code serait :\n",
    "\n",
    "```text\n",
    "malPlaces1()\n",
    "------------\n",
    "Secr: int[n]\n",
    "Test: int[n]\n",
    "------------\n",
    "resultat <- 0\n",
    "\n",
    "t <- 0\n",
    "while t < n\n",
    "    if Test[t] ≠ Secr[t] and Test[t] in Secr\n",
    "        result <- result + 1\n",
    "    t <- t + 1\n",
    "return result\n",
    "```\n",
    "\n",
    "Il est évident que ce code est incorrect car les doubles dans la proposition ne sont pas gérés : on considère potentiellement plusieurs candidats mal placés pour un seul élément du secret (qui a éventuellement été résolu).\n",
    "\n",
    "La problématique étant symétrique, on choisit de modifier la tentative en mettant à 0 les éléments ayant déjà fait l'objet d'une correspondance, mais les correspondances doivent inclure les bien placés car sinon on risque de valider un candidat mal placés alors qu'il existe un candidat bien placé ; il faut \n",
    "donc préalablement cribler les bien placés.\n",
    "\n",
    "La fonction ci-dessous suppose donc que `Secr[i]≠Test[i]` car on a mis à 0 tous les éléments de `Test` bien placés.\n",
    "\n",
    "```text\n",
    "malPlaces2()\n",
    "------------\n",
    "Secr: int[n]\n",
    "Test: int[n]\n",
    "------------\n",
    "resultat <- 0\n",
    "\n",
    "s <- 0\n",
    "while s < n\n",
    "    t <- 0\n",
    "    while t < n\n",
    "        if Secr[s] = Test[t]\n",
    "            resultat <- resultat + 1\n",
    "            Test[t] = 0\n",
    "    t <- t + 1\n",
    "s <- s + 1\n",
    "return resultat\n",
    "```"
   ]
  },
  {
   "cell_type": "markdown",
   "id": "954e0e10",
   "metadata": {},
   "source": [
    "## 8.5.3\n",
    "\n",
    "Comme stipulé précédemment la fonction `malPlaces2()` présuppose que les éléments bien placés ont été précédement criblés, il faut donc modifier `bienPlaces()` pour ce faire.\n",
    "\n",
    "La fonction `bienPlaces2()` effectue ce criblage et suppose que les modifications de `Test` (mise à 0 des éléments bien placés) persistent après l'exécution de la fonction.\n",
    "\n",
    "```text\n",
    "bienPlaces2()\n",
    "------------ \n",
    "Secr: int[n] # Combinaison secrète\n",
    "Test: int[n] # Tentative\n",
    "------------\n",
    "result <- 0\n",
    "i <- 0\n",
    "while i < n\n",
    "    if Test[i] = Secr[i]\n",
    "        result <- result + 1\n",
    "        Test[i] = 0\n",
    "    i <- i + 1\n",
    "return result\n",
    "```\n",
    "\n",
    "On peut alors appeler successivement `bienPlaces2()` et `malPlaces2()` pour avoir le résultat"
   ]
  },
  {
   "cell_type": "markdown",
   "id": "0822ba34",
   "metadata": {},
   "source": [
    "## 8.5.4\n",
    "\n",
    "Comme `malPlaces2()` effectue 2 boucles impbriquées, on peut envisager de la modifier\n",
    "pour calculer les deux valeurs _simultanément_.\n",
    "\n",
    "```text\n",
    "resultat2()\n",
    "------------\n",
    "Secr: int[n]\n",
    "Test: int[n]\n",
    "------------\n",
    "bien <- 0\n",
    "mal <- 0\n",
    "\n",
    "s <- 0\n",
    "while s < n\n",
    "    if Test[s] = Secr[s]\n",
    "        bien <- bien + 1\n",
    "        Test[s] = 0\n",
    "        next s\n",
    "    else\n",
    "        t <- 0    \n",
    "        while t < n\n",
    "            if Test[t]=Secr[s] and Test[t]≠Secr[t]\n",
    "                Test[t] = 0\n",
    "                mal <- mal + 1\n",
    "                next s\n",
    "            t <- t + 1\n",
    "    s <- s + 1\n",
    "return [bien,mal]\n",
    "```"
   ]
  },
  {
   "cell_type": "markdown",
   "id": "12dad680",
   "metadata": {},
   "source": [
    "## 8.5.5 Implémentation de la méthode du TP"
   ]
  },
  {
   "cell_type": "code",
   "execution_count": 54,
   "id": "a11d8b60",
   "metadata": {},
   "outputs": [],
   "source": [
    "def resultat(S: list[int], T: list[int]) -> list[int]:\n",
    "    bien = 0\n",
    "    mal = 0\n",
    "\n",
    "    for i in range(len(S)):\n",
    "        if S[i] == T[i]:\n",
    "            bien += 1\n",
    "            T[i] = 0\n",
    "\n",
    "    for s in S:\n",
    "        for j in range(len(T)):\n",
    "            if s == T[j]:\n",
    "                mal += 1\n",
    "                T[j] = 0\n",
    "                break\n",
    "\n",
    "    return [bien, mal]\n"
   ]
  },
  {
   "cell_type": "code",
   "execution_count": 55,
   "id": "0cc40281",
   "metadata": {},
   "outputs": [
    {
     "name": "stdout",
     "output_type": "stream",
     "text": [
      "1 : +\n",
      "2 : +\n",
      "3 : +\n",
      "4 : KO\n",
      "5 : +\n",
      "6 : +\n",
      "7 : +\n",
      "8 : +\n"
     ]
    }
   ],
   "source": [
    "tests = [\n",
    "    [ [2,1,2,2], [1,3,3,3], [0,1] ],\n",
    "    [ [1,1,2,2], [1,3,3,3], [1,0] ],\n",
    "    [ [1,2,1,2], [3,1,3,3], [0,1] ],\n",
    "    [ [1,2,2,2], [1,1,3,3], [1,0] ],\n",
    "    [ [1,2,2,2], [3,1,1,3], [0,1] ],\n",
    "    [ [1,1,2,2], [3,1,1,3], [1,1] ],\n",
    "    [ [1,2,3,4], [1,2,3,4], [4,0] ],\n",
    "    [ [1,2,3,4], [4,3,2,1], [0,4] ],\n",
    "\n",
    "]\n",
    "\n",
    "def execute_tests(func):\n",
    "    for i in range(len(tests)):\n",
    "        print(i+1,\":\", \"+\" if func(tests[i][0], tests[i][1]) == tests[i][2] else \"KO\")\n",
    "\n",
    "execute_tests(resultat)"
   ]
  }
 ],
 "metadata": {
  "kernelspec": {
   "display_name": "Python 3",
   "language": "python",
   "name": "python3"
  },
  "language_info": {
   "codemirror_mode": {
    "name": "ipython",
    "version": 3
   },
   "file_extension": ".py",
   "mimetype": "text/x-python",
   "name": "python",
   "nbconvert_exporter": "python",
   "pygments_lexer": "ipython3",
   "version": "3.13.7"
  }
 },
 "nbformat": 4,
 "nbformat_minor": 5
}
