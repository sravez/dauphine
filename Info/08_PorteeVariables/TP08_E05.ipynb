{
 "cells": [
  {
   "cell_type": "markdown",
   "id": "eb499397",
   "metadata": {},
   "source": [
    "# Exercice 8.5 - Jeu Mastermind"
   ]
  },
  {
   "cell_type": "markdown",
   "id": "f64c3415",
   "metadata": {},
   "source": [
    "## 8.5.1 Pseudo-code de `bienPaces()`\n",
    "\n",
    "Il suffit de vérifier combien d'éléments de même indice sont égaux\n",
    "\n",
    "```text \n",
    "Secr: int[n]\n",
    "Test: int[n]\n",
    "------------\n",
    "result <- 0\n",
    "i <- 0\n",
    "while i < n\n",
    "    if Test[i] = Secr[i]\n",
    "        result <- result + 1\n",
    "    i <- i + 1\n",
    "return result\n",
    "```\n"
   ]
  },
  {
   "cell_type": "code",
   "execution_count": 30,
   "id": "bdf10472",
   "metadata": {},
   "outputs": [],
   "source": [
    "from random import randint\n",
    "\n",
    "def combinaison(n:int, b: int) -> list[int]:\n",
    "    return [ randint(1,b) for _ in range(n)]\n",
    "\n",
    "def bienPlaces(Secr: list[int], Test: list[int]):\n",
    "    r = 0\n",
    "    for i in range(len(Secr)):\n",
    "        if Test[i]==Secr[i]:\n",
    "            r += 1\n",
    "    return r"
   ]
  },
  {
   "cell_type": "markdown",
   "id": "00213cdc",
   "metadata": {},
   "source": [
    "## 8.5.2 Pseudo-code de `malPlaces()`\n",
    "\n",
    "Le comptage des mal placés doit tenir des bien placés car un mal placés est par essence _pas bien placés_ et \n",
    "\n",
    "\n",
    "```text\n",
    "Secr: int[n]\n",
    "Test: int[n]\n",
    "------------\n",
    "bien <- 0\n",
    "mal <- 0\n",
    "utilisés <- []\n",
    "\n",
    "s <- 0\n",
    "while s < n\n",
    "    if Test[s] = Secr[s]\n",
    "        bien <- bien + 1\n",
    "        utilisés <- utilisés + [s]\n",
    "        next s\n",
    "    else\n",
    "        t <- 0    \n",
    "        while t < n\n",
    "            if Test[t]=Secr[s] and Test[t]≠Secr[t] and t not in utilisés\n",
    "                utilisés <- utilisés + [t]\n",
    "                mal <- mal + 1\n",
    "                next s\n",
    "            t <- t + 1\n",
    "    s <- s + 1\n",
    "return [bien,mal]\n",
    "```"
   ]
  },
  {
   "cell_type": "code",
   "execution_count": null,
   "id": "51a1e5fe",
   "metadata": {},
   "outputs": [],
   "source": [
    "def resultat(Secr: list[int], Test: list[int]):\n",
    "    r = {\n",
    "        \"bienPlaces\" : 0,\n",
    "        \"malPlaces\"   : 0\n",
    "    }\n",
    "    used: list[int] = []\n",
    "\n",
    "    n = len(Secr)\n",
    "\n",
    "    for s in range(n):\n",
    "        if Test[s]==Secr[s]:\n",
    "            r[\"bienPlaces\"] += 1\n",
    "            used += [s]\n",
    "            continue\n",
    "        else:\n",
    "            for t in range(n):\n",
    "                if Test[t]==Secr[s] and Test[t]!=Secr[t] and t not in used:\n",
    "                    r[\"malPlaces\"] += 1\n",
    "                    used += [t]\n",
    "                    break\n",
    "    return r"
   ]
  },
  {
   "cell_type": "code",
   "execution_count": 36,
   "id": "7749ec94",
   "metadata": {},
   "outputs": [
    {
     "data": {
      "text/plain": [
       "{'bienPlaces': 4, 'malPlaces': 0}"
      ]
     },
     "execution_count": 36,
     "metadata": {},
     "output_type": "execute_result"
    }
   ],
   "source": [
    "resultat([1,2,3,4],[1,2,3,4])"
   ]
  },
  {
   "cell_type": "code",
   "execution_count": 37,
   "id": "a3c131a6",
   "metadata": {},
   "outputs": [
    {
     "ename": "KeyError",
     "evalue": "'misplaced'",
     "output_type": "error",
     "traceback": [
      "\u001b[31m---------------------------------------------------------------------------\u001b[39m",
      "\u001b[31mKeyError\u001b[39m                                  Traceback (most recent call last)",
      "\u001b[36mCell\u001b[39m\u001b[36m \u001b[39m\u001b[32mIn[37]\u001b[39m\u001b[32m, line 1\u001b[39m\n\u001b[32m----> \u001b[39m\u001b[32m1\u001b[39m \u001b[43mresultat\u001b[49m\u001b[43m(\u001b[49m\u001b[43m[\u001b[49m\u001b[32;43m1\u001b[39;49m\u001b[43m,\u001b[49m\u001b[32;43m2\u001b[39;49m\u001b[43m,\u001b[49m\u001b[32;43m3\u001b[39;49m\u001b[43m,\u001b[49m\u001b[32;43m4\u001b[39;49m\u001b[43m]\u001b[49m\u001b[43m,\u001b[49m\u001b[43m[\u001b[49m\u001b[32;43m2\u001b[39;49m\u001b[43m,\u001b[49m\u001b[32;43m1\u001b[39;49m\u001b[43m,\u001b[49m\u001b[32;43m3\u001b[39;49m\u001b[43m,\u001b[49m\u001b[32;43m4\u001b[39;49m\u001b[43m]\u001b[49m\u001b[43m)\u001b[49m\n",
      "\u001b[36mCell\u001b[39m\u001b[36m \u001b[39m\u001b[32mIn[35]\u001b[39m\u001b[32m, line 18\u001b[39m, in \u001b[36mresultat\u001b[39m\u001b[34m(Secr, Test)\u001b[39m\n\u001b[32m     16\u001b[39m \u001b[38;5;28;01mfor\u001b[39;00m t \u001b[38;5;129;01min\u001b[39;00m \u001b[38;5;28mrange\u001b[39m(n):\n\u001b[32m     17\u001b[39m     \u001b[38;5;28;01mif\u001b[39;00m Test[t]==Secr[s] \u001b[38;5;129;01mand\u001b[39;00m Test[t]!=Secr[t] \u001b[38;5;129;01mand\u001b[39;00m t \u001b[38;5;129;01mnot\u001b[39;00m \u001b[38;5;129;01min\u001b[39;00m used:\n\u001b[32m---> \u001b[39m\u001b[32m18\u001b[39m         \u001b[43mr\u001b[49m\u001b[43m[\u001b[49m\u001b[33;43m\"\u001b[39;49m\u001b[33;43mmisplaced\u001b[39;49m\u001b[33;43m\"\u001b[39;49m\u001b[43m]\u001b[49m += \u001b[32m1\u001b[39m\n\u001b[32m     19\u001b[39m         used += [t]\n\u001b[32m     20\u001b[39m         \u001b[38;5;28;01mbreak\u001b[39;00m\n",
      "\u001b[31mKeyError\u001b[39m: 'misplaced'"
     ]
    }
   ],
   "source": [
    "resultat([1,2,3,4],[2,1,3,4])"
   ]
  },
  {
   "cell_type": "code",
   "execution_count": 34,
   "id": "503cbfb5",
   "metadata": {},
   "outputs": [
    {
     "data": {
      "text/plain": [
       "{'bienPlaces': 1, 'malPlaces': 2}"
      ]
     },
     "execution_count": 34,
     "metadata": {},
     "output_type": "execute_result"
    }
   ],
   "source": [
    "resultat([1,1,4,2],[2,1,3,4])"
   ]
  }
 ],
 "metadata": {
  "kernelspec": {
   "display_name": "Python 3",
   "language": "python",
   "name": "python3"
  },
  "language_info": {
   "codemirror_mode": {
    "name": "ipython",
    "version": 3
   },
   "file_extension": ".py",
   "mimetype": "text/x-python",
   "name": "python",
   "nbconvert_exporter": "python",
   "pygments_lexer": "ipython3",
   "version": "3.13.7"
  }
 },
 "nbformat": 4,
 "nbformat_minor": 5
}
