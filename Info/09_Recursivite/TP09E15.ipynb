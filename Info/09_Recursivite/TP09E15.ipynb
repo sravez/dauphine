{
 "cells": [
  {
   "cell_type": "markdown",
   "id": "859fddc6",
   "metadata": {},
   "source": [
    "## Exercice 9.15"
   ]
  },
  {
   "cell_type": "code",
   "execution_count": 4,
   "id": "b1c65a88",
   "metadata": {},
   "outputs": [
    {
     "data": {
      "text/plain": [
       "1"
      ]
     },
     "execution_count": 4,
     "metadata": {},
     "output_type": "execute_result"
    }
   ],
   "source": [
    "def subMatrix(M, i, j):\n",
    "    R = []\n",
    "    for k in range(len(M)):\n",
    "        if k != i:\n",
    "            R.append([ M[k][l] for l in range(len(M[k])) if l != j ])\n",
    "    return R\n",
    "\n",
    "def det(M):\n",
    "    if len(M) == 1:\n",
    "        if len(M[0]) == 1:\n",
    "            return M[0][0]\n",
    "        else:\n",
    "            return 0\n",
    "    else:\n",
    "        r = 0\n",
    "        for i in range(len(M)):\n",
    "            r += M[i][0] * (-1)**(i) * det(subMatrix(M,i,0))\n",
    "        return r\n",
    "\n",
    "M = [\n",
    "    [3, 2, 0],\n",
    "    [0, 1, 1],\n",
    "    [2, 1, 0]\n",
    "]\n",
    "\n",
    "det(M)"
   ]
  }
 ],
 "metadata": {
  "kernelspec": {
   "display_name": "Python 3",
   "language": "python",
   "name": "python3"
  },
  "language_info": {
   "codemirror_mode": {
    "name": "ipython",
    "version": 3
   },
   "file_extension": ".py",
   "mimetype": "text/x-python",
   "name": "python",
   "nbconvert_exporter": "python",
   "pygments_lexer": "ipython3",
   "version": "3.13.7"
  }
 },
 "nbformat": 4,
 "nbformat_minor": 5
}
