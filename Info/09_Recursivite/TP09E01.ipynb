{
 "cells": [
  {
   "cell_type": "markdown",
   "id": "9e3c3398",
   "metadata": {},
   "source": [
    "## Exercice 9.1\n",
    "\n",
    "- $U_0 = 10$\n",
    "- $U_n = 0.2 U_{n-1} + 3$"
   ]
  },
  {
   "cell_type": "markdown",
   "id": "9c11ff0a",
   "metadata": {},
   "source": [
    "### 9.1.1 Fonction récursive"
   ]
  },
  {
   "cell_type": "code",
   "execution_count": 7,
   "id": "3d754de4",
   "metadata": {},
   "outputs": [],
   "source": [
    "def U_recursive(n:int) -> float:\n",
    "    if n == 0:\n",
    "        return 10\n",
    "    else:\n",
    "        return 0.2 * U_recursive(n-1) + 3"
   ]
  },
  {
   "cell_type": "markdown",
   "id": "ca0696c1",
   "metadata": {},
   "source": [
    "### 9.1.2 Fonction itérative"
   ]
  },
  {
   "cell_type": "code",
   "execution_count": 8,
   "id": "3ce5a918",
   "metadata": {},
   "outputs": [],
   "source": [
    "def U_iterative(n: int) -> float:\n",
    "    u = 10\n",
    "    for i in range(n):\n",
    "        u = 0.2 * u + 3\n",
    "    return u"
   ]
  },
  {
   "cell_type": "markdown",
   "id": "549a2e14",
   "metadata": {},
   "source": [
    "### 9.1.3 Vérification"
   ]
  },
  {
   "cell_type": "code",
   "execution_count": 9,
   "id": "c45434a6",
   "metadata": {},
   "outputs": [
    {
     "name": "stdout",
     "output_type": "stream",
     "text": [
      "3.75000064\n",
      "3.75000064\n"
     ]
    }
   ],
   "source": [
    "print(U_recursive(10))\n",
    "print(U_iterative(10))"
   ]
  }
 ],
 "metadata": {
  "kernelspec": {
   "display_name": "Python 3",
   "language": "python",
   "name": "python3"
  },
  "language_info": {
   "codemirror_mode": {
    "name": "ipython",
    "version": 3
   },
   "file_extension": ".py",
   "mimetype": "text/x-python",
   "name": "python",
   "nbconvert_exporter": "python",
   "pygments_lexer": "ipython3",
   "version": "3.13.7"
  }
 },
 "nbformat": 4,
 "nbformat_minor": 5
}
