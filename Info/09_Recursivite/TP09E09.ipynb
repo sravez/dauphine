{
 "cells": [
  {
   "cell_type": "markdown",
   "id": "4b68b86f",
   "metadata": {},
   "source": [
    "## Exercice 9.9\n",
    "\n",
    "### 9.9.1 Pseudo-code de `a^n`\n",
    "\n",
    "```text\n",
    "puissance(a, n)\n",
    "---------------\n",
    "a : int\n",
    "n : int # n≥ 0\n",
    "---------------\n",
    "begin\n",
    "    if n = 0\n",
    "        return 1\n",
    "    else\n",
    "        return a * puissance(a, n-1)\n",
    "    endif\n",
    "end\n",
    "```\n",
    "\n",
    "### 9.9.2"
   ]
  },
  {
   "cell_type": "code",
   "execution_count": 1,
   "id": "ae8def8e",
   "metadata": {},
   "outputs": [
    {
     "data": {
      "text/plain": [
       "256"
      ]
     },
     "execution_count": 1,
     "metadata": {},
     "output_type": "execute_result"
    }
   ],
   "source": [
    "def puissance(a: int, n: int) -> int:\n",
    "    if n == 0:\n",
    "        return 1\n",
    "    else:\n",
    "        return a * puissance(a, n-1)\n",
    "\n",
    "puissance(2,8)"
   ]
  },
  {
   "cell_type": "markdown",
   "id": "f76a9553",
   "metadata": {},
   "source": [
    "### 9.9.3\n",
    "\n",
    "On utilise le fait que :\n",
    "- $a^n = (a^{n/2})^2$ si $n$ est pair\n",
    "- $a^n = a \\times (a^{(n-1)/2})^2$ si $n$ est impair\n",
    "\n",
    "pour réduire le nombre d'appel récursif"
   ]
  },
  {
   "cell_type": "code",
   "execution_count": 5,
   "id": "8cad5f34",
   "metadata": {},
   "outputs": [
    {
     "data": {
      "text/plain": [
       "256"
      ]
     },
     "execution_count": 5,
     "metadata": {},
     "output_type": "execute_result"
    }
   ],
   "source": [
    "def puissance2(a: int, n: int) -> int:\n",
    "    if n == 0:\n",
    "        return 1\n",
    "    elif n == 1:\n",
    "        return a    \n",
    "    else:\n",
    "        b = puissance2(a, n // 2)\n",
    "        return puissance2(a, n % 2) * b * b\n",
    "\n",
    "puissance2(2,8)"
   ]
  }
 ],
 "metadata": {
  "kernelspec": {
   "display_name": "Python 3",
   "language": "python",
   "name": "python3"
  },
  "language_info": {
   "codemirror_mode": {
    "name": "ipython",
    "version": 3
   },
   "file_extension": ".py",
   "mimetype": "text/x-python",
   "name": "python",
   "nbconvert_exporter": "python",
   "pygments_lexer": "ipython3",
   "version": "3.13.7"
  }
 },
 "nbformat": 4,
 "nbformat_minor": 5
}
