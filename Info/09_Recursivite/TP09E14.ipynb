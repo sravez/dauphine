{
 "cells": [
  {
   "cell_type": "markdown",
   "id": "dd4a2759",
   "metadata": {},
   "source": [
    "## Exercice 9.14"
   ]
  },
  {
   "cell_type": "code",
   "execution_count": 12,
   "id": "23637179",
   "metadata": {},
   "outputs": [
    {
     "name": "stdout",
     "output_type": "stream",
     "text": [
      " 0 |  1.2920e-06 s |  1.8750e-06 s  1  |  1.0000e-06 s  1\n",
      " 1 |  1.7920e-06 s |  1.6659e-06 s  2  |  5.8406e-07 s  1\n",
      " 2 |  1.0410e-06 s |  1.1669e-06 s  3  |  1.5841e-06 s  3\n",
      " 3 |  5.4203e-07 s |  6.6694e-07 s  4  |  1.0420e-06 s  3\n",
      " 4 |  5.0000e-07 s |  7.0804e-07 s  5  |  1.2500e-06 s  5\n",
      " 5 |  5.0000e-07 s |  7.9209e-07 s  6  |  9.9989e-07 s  5\n",
      " 6 |  7.0792e-07 s |  8.3400e-07 s  7  |  8.3400e-07 s  5\n",
      " 7 |  6.6601e-07 s |  1.0410e-06 s  8  |  7.0804e-07 s  5\n",
      " 8 |  5.4098e-07 s |  1.0000e-06 s  9  |  1.0830e-06 s  7\n",
      " 9 |  5.0000e-07 s |  1.2501e-06 s 10  |  1.3750e-06 s  7\n",
      "10 |  5.4191e-07 s |  1.5000e-06 s 11  |  1.1669e-06 s  7\n",
      "11 |  5.0000e-07 s |  1.4170e-06 s 12  |  1.0830e-06 s  7\n",
      "12 |  5.8394e-07 s |  1.4580e-06 s 13  |  1.1659e-06 s  7\n",
      "13 |  7.5006e-07 s |  2.4375e-05 s 14  |  2.9590e-06 s  7\n",
      "14 |  2.0840e-06 s |  2.2920e-06 s 15  |  1.3750e-06 s  7\n",
      "15 |  1.3340e-06 s |  1.8340e-06 s 16  |  1.2500e-06 s  7\n",
      "16 |  1.1660e-06 s |  1.9170e-06 s 17  |  1.5830e-06 s  9\n",
      "17 |  1.1669e-06 s |  2.0419e-06 s 18  |  1.5000e-06 s  9\n",
      "18 |  1.0000e-06 s |  2.0420e-06 s 19  |  1.6250e-06 s  9\n",
      "19 |  1.0420e-06 s |  2.2920e-06 s 20  |  1.7909e-06 s  9\n",
      "20 |  1.2500e-06 s |  2.2090e-06 s 21  |  1.6249e-06 s  9\n",
      "21 |  1.2080e-06 s |  2.3750e-06 s 22  |  1.3750e-06 s  9\n",
      "22 |  1.2920e-06 s |  2.5419e-06 s 23  |  1.3331e-06 s  9\n",
      "23 |  1.2090e-06 s |  2.6250e-06 s 24  |  1.2920e-06 s  9\n",
      "24 |  1.3750e-06 s |  2.6670e-06 s 25  |  1.3750e-06 s  9\n",
      "25 |  1.3331e-06 s |  2.7911e-06 s 26  |  1.4169e-06 s  9\n",
      "26 |  1.3331e-06 s |  2.8750e-06 s 27  |  1.3331e-06 s  9\n",
      "27 |  1.5410e-06 s |  3.0420e-06 s 28  |  1.3331e-06 s  9\n",
      "28 |  1.5830e-06 s |  3.1249e-06 s 29  |  1.3331e-06 s  9\n",
      "29 |  1.6660e-06 s |  3.1670e-06 s 30  |  1.4161e-06 s  9\n",
      "30 |  1.6660e-06 s |  3.4160e-06 s 31  |  1.4580e-06 s  9\n"
     ]
    }
   ],
   "source": [
    "from time import monotonic\n",
    "\n",
    "def puissanceIt(a,n):\n",
    "    r = 1\n",
    "    for i in range(2, n+1):\n",
    "        r *= i\n",
    "    return r\n",
    "\n",
    "def puissanceRec1(a: int, n: int) -> int:\n",
    "    global nbPassages\n",
    "    nbPassages += 1\n",
    "    if n == 0:\n",
    "        return 1\n",
    "    else:\n",
    "        return a * puissanceRec1(a, n-1)\n",
    "\n",
    "def puissanceRec2(a: int, n: int) -> int:\n",
    "    global nbPassages\n",
    "    nbPassages += 1\n",
    "    if n == 0:\n",
    "        return 1\n",
    "    elif n == 1:\n",
    "        return a    \n",
    "    else:\n",
    "        b = puissanceRec2(a, n // 2)\n",
    "        return puissanceRec2(a, n % 2) * b * b\n",
    "\n",
    "nbPassages = 0\n",
    "\n",
    "def test(a,n):\n",
    "    global nbPassages\n",
    "    s = monotonic()\n",
    "    puissanceIt(a,n)\n",
    "    t = monotonic() - s\n",
    "    print(f\"{n:2d} | {t: .4e} s\", end=\"\")\n",
    "\n",
    "    nbPassages = 0\n",
    "    s = monotonic()\n",
    "    puissanceRec1(a,n)\n",
    "    t = monotonic() - s\n",
    "    print(f\" | {t: .4e} s {nbPassages:>2} \", end=\"\")\n",
    "\n",
    "    nr1 = nbPassages\n",
    "\n",
    "    nbPassages = 0\n",
    "    s = monotonic()\n",
    "    puissanceRec2(a,n)\n",
    "    t = monotonic() - s\n",
    "    print(f\" | {t: .4e} s {nbPassages:>2}\")\n",
    "\n",
    "for i in range(0,31):\n",
    "    test(2,i)"
   ]
  }
 ],
 "metadata": {
  "kernelspec": {
   "display_name": "Python 3",
   "language": "python",
   "name": "python3"
  },
  "language_info": {
   "codemirror_mode": {
    "name": "ipython",
    "version": 3
   },
   "file_extension": ".py",
   "mimetype": "text/x-python",
   "name": "python",
   "nbconvert_exporter": "python",
   "pygments_lexer": "ipython3",
   "version": "3.13.7"
  }
 },
 "nbformat": 4,
 "nbformat_minor": 5
}
