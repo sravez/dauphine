{
 "cells": [
  {
   "cell_type": "markdown",
   "id": "f2481d78",
   "metadata": {},
   "source": [
    "## Exercice 9.10"
   ]
  },
  {
   "cell_type": "code",
   "execution_count": 1,
   "id": "11b2659f",
   "metadata": {},
   "outputs": [
    {
     "name": "stdout",
     "output_type": "stream",
     "text": [
      "n = 5\n",
      "n = 4\n",
      "n = 3\n",
      "n = 2\n",
      "n = 1\n",
      "Résultat de 5! = 120\n",
      "Nombre de passages dans la fonction: 5\n"
     ]
    }
   ],
   "source": [
    "def fac_rec(n):\n",
    "    global nbPassagesFonction\n",
    "    nbPassagesFonction += 1\n",
    "    print(\"n =\", n)\n",
    "    if n == 1 or n == 0:\n",
    "        return 1\n",
    "    else:\n",
    "        return n * fac_rec(n-1)\n",
    "\n",
    "nbPassagesFonction = 0\n",
    "\n",
    "i = int(input(\"i=\"))\n",
    "print(\"Résultat de \" + str(i) +\"! =\", fac_rec(i))\n",
    "print(\"Nombre de passages dans la fonction:\", nbPassagesFonction)"
   ]
  },
  {
   "cell_type": "markdown",
   "id": "6874d18b",
   "metadata": {},
   "source": [
    "### 9.7.1\n",
    "\n",
    "```text\n",
    "n = 5\n",
    "n = 4\n",
    "n = 3\n",
    "n = 2\n",
    "n = 1\n",
    "Résultat de 5! = 120\n",
    "Nombre de passages dans la fonction: 5\n",
    "```\n",
    "\n",
    "### 9.7.2 Version itérative"
   ]
  },
  {
   "cell_type": "code",
   "execution_count": 7,
   "id": "42e72b07",
   "metadata": {},
   "outputs": [
    {
     "data": {
      "text/plain": [
       "120"
      ]
     },
     "execution_count": 7,
     "metadata": {},
     "output_type": "execute_result"
    }
   ],
   "source": [
    "def fac_iterative(n):\n",
    "    r = 1\n",
    "    for i in range(2, n+1):\n",
    "        r *= i\n",
    "    return r\n",
    "\n",
    "fac_iterative(5)"
   ]
  }
 ],
 "metadata": {
  "kernelspec": {
   "display_name": "Python 3",
   "language": "python",
   "name": "python3"
  },
  "language_info": {
   "codemirror_mode": {
    "name": "ipython",
    "version": 3
   },
   "file_extension": ".py",
   "mimetype": "text/x-python",
   "name": "python",
   "nbconvert_exporter": "python",
   "pygments_lexer": "ipython3",
   "version": "3.13.7"
  }
 },
 "nbformat": 4,
 "nbformat_minor": 5
}
