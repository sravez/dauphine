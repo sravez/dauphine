{
 "cells": [
  {
   "cell_type": "markdown",
   "id": "03cbc584",
   "metadata": {},
   "source": [
    "## Exercice 9.12\n",
    "\n",
    "### 9.12.1"
   ]
  },
  {
   "cell_type": "code",
   "execution_count": 1,
   "id": "bcf53960",
   "metadata": {},
   "outputs": [
    {
     "data": {
      "text/plain": [
       "5050"
      ]
     },
     "execution_count": 1,
     "metadata": {},
     "output_type": "execute_result"
    }
   ],
   "source": [
    "def sommeRec(n: int) -> int:\n",
    "    if n == 0:\n",
    "        return 0\n",
    "    else:\n",
    "        return n + sommeRec(n-1)\n",
    "\n",
    "sommeRec(100)"
   ]
  },
  {
   "cell_type": "markdown",
   "id": "f91cee98",
   "metadata": {},
   "source": [
    "### 9.12.2"
   ]
  },
  {
   "cell_type": "code",
   "execution_count": 2,
   "id": "82ee7875",
   "metadata": {},
   "outputs": [
    {
     "data": {
      "text/plain": [
       "3825"
      ]
     },
     "execution_count": 2,
     "metadata": {},
     "output_type": "execute_result"
    }
   ],
   "source": [
    "def sommeRec2(debut: int, fin: int) -> int:\n",
    "    if fin == debut:\n",
    "        return debut\n",
    "    else:\n",
    "        return debut + sommeRec2(debut+1, fin)\n",
    "\n",
    "sommeRec2(50, 100)"
   ]
  }
 ],
 "metadata": {
  "kernelspec": {
   "display_name": "Python 3",
   "language": "python",
   "name": "python3"
  },
  "language_info": {
   "codemirror_mode": {
    "name": "ipython",
    "version": 3
   },
   "file_extension": ".py",
   "mimetype": "text/x-python",
   "name": "python",
   "nbconvert_exporter": "python",
   "pygments_lexer": "ipython3",
   "version": "3.13.7"
  }
 },
 "nbformat": 4,
 "nbformat_minor": 5
}
