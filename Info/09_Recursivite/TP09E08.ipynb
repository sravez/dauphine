{
 "cells": [
  {
   "cell_type": "markdown",
   "id": "c707a3e7",
   "metadata": {},
   "source": [
    "## Exercice 9.8\n",
    "\n",
    "```text\n",
    "pgcd(a,b)\n",
    "---------\n",
    "a: int\n",
    "b: int\n",
    "---------\n",
    "begin\n",
    "    if b != 0\n",
    "        return pgcd(b, a mod b)\n",
    "    else if a != 0\n",
    "        return a\n",
    "    else\n",
    "        return null\n",
    "    endif\n",
    "end\n",
    "```"
   ]
  },
  {
   "cell_type": "code",
   "execution_count": null,
   "id": "e87eb664",
   "metadata": {},
   "outputs": [
    {
     "name": "stdout",
     "output_type": "stream",
     "text": [
      "True\n",
      "True\n",
      "True\n",
      "True\n",
      "True\n",
      "True\n",
      "False\n"
     ]
    }
   ],
   "source": [
    "def pgcd(a: int, b: int) -> int:\n",
    "    if b != 0:\n",
    "        return pgcd(b, a % b)\n",
    "    elif a != 0:\n",
    "        return a\n",
    "    else:\n",
    "        return None\n",
    "\n",
    "print(pgcd(84,60) == 12)\n",
    "print(pgcd(60,84) == 12)\n",
    "print(pgcd(60, 0) == 60)\n",
    "print(pgcd( 0,84) == 84)\n",
    "print(pgcd( 0, 0) == None)\n",
    "\n",
    "print(pgcd(-60, 84) == 12)\n"
   ]
  }
 ],
 "metadata": {
  "kernelspec": {
   "display_name": "Python 3",
   "language": "python",
   "name": "python3"
  },
  "language_info": {
   "codemirror_mode": {
    "name": "ipython",
    "version": 3
   },
   "file_extension": ".py",
   "mimetype": "text/x-python",
   "name": "python",
   "nbconvert_exporter": "python",
   "pygments_lexer": "ipython3",
   "version": "3.13.7"
  }
 },
 "nbformat": 4,
 "nbformat_minor": 5
}
