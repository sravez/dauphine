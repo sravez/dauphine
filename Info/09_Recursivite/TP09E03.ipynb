{
 "cells": [
  {
   "cell_type": "markdown",
   "id": "491a61e2",
   "metadata": {},
   "source": [
    "## Exercice 9.3"
   ]
  },
  {
   "cell_type": "markdown",
   "id": "957d6607",
   "metadata": {},
   "source": [
    "### 9.3.1\n",
    "\n",
    "```text\n",
    "concatene([\"j'\", \"apprends\", \"la\", \"programmation\", \"récursive\"])\n",
    "-> \"j' \" +  concatene([\"apprends\", \"la\", \"programmation\", \"récursive\"])\n",
    "            -> \"apprends \" +  concatene([\"la\", \"programmation\", \"récursive\"])\n",
    "                              -> \"la \" + concatene([\"programmation\", \"récursive\"])\n",
    "                                         -> \"programmation \" + concatene([\"récursive\"])\n",
    "                                                               -> \"récursive \" + concatene([])\n",
    "                                                                                 -> \".\"\n",
    "\"j' apprends la programmation récursive .\"\n",
    "```"
   ]
  },
  {
   "cell_type": "code",
   "execution_count": 2,
   "id": "e68acdae",
   "metadata": {},
   "outputs": [
    {
     "data": {
      "text/plain": [
       "\"j' apprends la programmation récursive .\""
      ]
     },
     "execution_count": 2,
     "metadata": {},
     "output_type": "execute_result"
    }
   ],
   "source": [
    "def concatene(L: list[str]) -> str:\n",
    "    if len(L) > 0:\n",
    "        return L[0] + \" \" + concatene(L[1:])\n",
    "    else:\n",
    "        return \".\"\n",
    "\n",
    "concatene([\"j'\", \"apprends\", \"la\", \"programmation\", \"récursive\"])"
   ]
  },
  {
   "cell_type": "markdown",
   "id": "21fb9c7f",
   "metadata": {},
   "source": [
    "### 9.3.2\n",
    "\n",
    "Les mots sont ajoutés dans l'ordre inverse et le point est en début de chaîne."
   ]
  },
  {
   "cell_type": "code",
   "execution_count": 3,
   "id": "789a9563",
   "metadata": {},
   "outputs": [
    {
     "data": {
      "text/plain": [
       "\".récursive programmation la apprends j' \""
      ]
     },
     "execution_count": 3,
     "metadata": {},
     "output_type": "execute_result"
    }
   ],
   "source": [
    "def concatene2(L):\n",
    "    if len(L) > 0:\n",
    "        return concatene2(L[1:]) + L[0] + \" \"\n",
    "    else:\n",
    "        return \".\"\n",
    "\n",
    "concatene2([\"j'\", \"apprends\", \"la\", \"programmation\", \"récursive\"])"
   ]
  }
 ],
 "metadata": {
  "kernelspec": {
   "display_name": "Python 3",
   "language": "python",
   "name": "python3"
  },
  "language_info": {
   "codemirror_mode": {
    "name": "ipython",
    "version": 3
   },
   "file_extension": ".py",
   "mimetype": "text/x-python",
   "name": "python",
   "nbconvert_exporter": "python",
   "pygments_lexer": "ipython3",
   "version": "3.13.7"
  }
 },
 "nbformat": 4,
 "nbformat_minor": 5
}
