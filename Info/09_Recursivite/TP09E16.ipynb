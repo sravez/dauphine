{
 "cells": [
  {
   "cell_type": "markdown",
   "id": "abd73b68",
   "metadata": {},
   "source": [
    "## Exercice 9.16 - Les tours de Hanoï"
   ]
  },
  {
   "cell_type": "code",
   "execution_count": null,
   "id": "fd03eb67",
   "metadata": {},
   "outputs": [
    {
     "name": "stdout",
     "output_type": "stream",
     "text": [
      "[[], [], [4, 3, 2, 1]]\n"
     ]
    }
   ],
   "source": [
    "def remove_top_disc(tower) -> int:\n",
    "    if len(tower) > 0:\n",
    "        return tower.pop()\n",
    "    else:\n",
    "        return None\n",
    "\n",
    "def add_disc(tower, diameter):\n",
    "    if len(tower) == 0 or diameter < tower[-1]:\n",
    "        tower.append(diameter)\n",
    "    else:\n",
    "        raise Exception(\"Bad size\")\n",
    "\n",
    "def move(n, src, dest, inter):\n",
    "    if n == 1:\n",
    "        d = remove_top_disc(src)\n",
    "        add_disc(dest, d)\n",
    "    elif n > 1:\n",
    "        move(n-1, src  , inter, dest)\n",
    "        move(1  , src  , dest , inter)\n",
    "        move(n-1, inter, dest , src)  \n",
    "\n",
    "game = [ [4,3,2,1], [], [] ]\n",
    "move(4, game[0], game[2], game[1])\n",
    "print(game)"
   ]
  }
 ],
 "metadata": {
  "kernelspec": {
   "display_name": "Python 3",
   "language": "python",
   "name": "python3"
  },
  "language_info": {
   "codemirror_mode": {
    "name": "ipython",
    "version": 3
   },
   "file_extension": ".py",
   "mimetype": "text/x-python",
   "name": "python",
   "nbconvert_exporter": "python",
   "pygments_lexer": "ipython3",
   "version": "3.13.7"
  }
 },
 "nbformat": 4,
 "nbformat_minor": 5
}
