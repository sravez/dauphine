{
 "cells": [
  {
   "cell_type": "markdown",
   "id": "458938a1",
   "metadata": {},
   "source": [
    "## Exercice 9.13\n",
    "\n",
    "La méthode récursive n'est pas envisageable pour les grandes valeurs de $n$ car le nombre d'opérations à effectuer est de l'ordre de grandeur de $2^n$.\n",
    "\n",
    "```text\n",
    "n = 35, fonction itérative : 4.332978278398514e-06\n",
    "n = 35, fonction récursive : 0.6085618750657886\n",
    "140448.86356797421\n",
    "n = 70, fonction itérative : 3.6660348996520042e-06\n",
    "(processus interrompu)\n",
    "```"
   ]
  },
  {
   "cell_type": "code",
   "execution_count": 10,
   "id": "3897db77",
   "metadata": {},
   "outputs": [
    {
     "name": "stdout",
     "output_type": "stream",
     "text": [
      "n = 35, fonction itérative : 4.332978278398514e-06\n",
      "n = 35, fonction récursive : 0.6085618750657886\n",
      "140448.86356797421\n",
      "n = 70, fonction itérative : 3.6660348996520042e-06\n"
     ]
    },
    {
     "ename": "KeyboardInterrupt",
     "evalue": "",
     "output_type": "error",
     "traceback": [
      "\u001b[31m---------------------------------------------------------------------------\u001b[39m",
      "\u001b[31mKeyboardInterrupt\u001b[39m                         Traceback (most recent call last)",
      "\u001b[36mCell\u001b[39m\u001b[36m \u001b[39m\u001b[32mIn[10]\u001b[39m\u001b[32m, line 27\u001b[39m\n\u001b[32m     24\u001b[39m     \u001b[38;5;28mprint\u001b[39m(tr/ti)\n\u001b[32m     26\u001b[39m test(\u001b[32m35\u001b[39m)\n\u001b[32m---> \u001b[39m\u001b[32m27\u001b[39m \u001b[43mtest\u001b[49m\u001b[43m(\u001b[49m\u001b[32;43m70\u001b[39;49m\u001b[43m)\u001b[49m\n",
      "\u001b[36mCell\u001b[39m\u001b[36m \u001b[39m\u001b[32mIn[10]\u001b[39m\u001b[32m, line 21\u001b[39m, in \u001b[36mtest\u001b[39m\u001b[34m(n)\u001b[39m\n\u001b[32m     19\u001b[39m \u001b[38;5;28mprint\u001b[39m(\u001b[33mf\u001b[39m\u001b[33m\"\u001b[39m\u001b[33mn = \u001b[39m\u001b[38;5;132;01m{\u001b[39;00mn\u001b[38;5;132;01m}\u001b[39;00m\u001b[33m, fonction itérative : \u001b[39m\u001b[38;5;132;01m{\u001b[39;00mti\u001b[38;5;132;01m}\u001b[39;00m\u001b[33m\"\u001b[39m)\n\u001b[32m     20\u001b[39m s = monotonic()\n\u001b[32m---> \u001b[39m\u001b[32m21\u001b[39m \u001b[43mFibRec\u001b[49m\u001b[43m(\u001b[49m\u001b[43mn\u001b[49m\u001b[43m)\u001b[49m\n\u001b[32m     22\u001b[39m tr = monotonic() -s\n\u001b[32m     23\u001b[39m \u001b[38;5;28mprint\u001b[39m(\u001b[33mf\u001b[39m\u001b[33m\"\u001b[39m\u001b[33mn = \u001b[39m\u001b[38;5;132;01m{\u001b[39;00mn\u001b[38;5;132;01m}\u001b[39;00m\u001b[33m, fonction récursive : \u001b[39m\u001b[38;5;132;01m{\u001b[39;00mtr\u001b[38;5;132;01m}\u001b[39;00m\u001b[33m\"\u001b[39m)\n",
      "\u001b[36mCell\u001b[39m\u001b[36m \u001b[39m\u001b[32mIn[10]\u001b[39m\u001b[32m, line 5\u001b[39m, in \u001b[36mFibRec\u001b[39m\u001b[34m(n)\u001b[39m\n\u001b[32m      3\u001b[39m \u001b[38;5;28;01mdef\u001b[39;00m\u001b[38;5;250m \u001b[39m\u001b[34mFibRec\u001b[39m(n):\n\u001b[32m      4\u001b[39m     \u001b[38;5;28;01mif\u001b[39;00m n > \u001b[32m2\u001b[39m:\n\u001b[32m----> \u001b[39m\u001b[32m5\u001b[39m         \u001b[38;5;28;01mreturn\u001b[39;00m \u001b[43mFibRec\u001b[49m\u001b[43m(\u001b[49m\u001b[43mn\u001b[49m\u001b[43m-\u001b[49m\u001b[32;43m1\u001b[39;49m\u001b[43m)\u001b[49m + FibRec(n-\u001b[32m2\u001b[39m)\n\u001b[32m      6\u001b[39m     \u001b[38;5;28;01melse\u001b[39;00m:\n\u001b[32m      7\u001b[39m         \u001b[38;5;28;01mreturn\u001b[39;00m \u001b[32m1\u001b[39m\n",
      "\u001b[36mCell\u001b[39m\u001b[36m \u001b[39m\u001b[32mIn[10]\u001b[39m\u001b[32m, line 5\u001b[39m, in \u001b[36mFibRec\u001b[39m\u001b[34m(n)\u001b[39m\n\u001b[32m      3\u001b[39m \u001b[38;5;28;01mdef\u001b[39;00m\u001b[38;5;250m \u001b[39m\u001b[34mFibRec\u001b[39m(n):\n\u001b[32m      4\u001b[39m     \u001b[38;5;28;01mif\u001b[39;00m n > \u001b[32m2\u001b[39m:\n\u001b[32m----> \u001b[39m\u001b[32m5\u001b[39m         \u001b[38;5;28;01mreturn\u001b[39;00m \u001b[43mFibRec\u001b[49m\u001b[43m(\u001b[49m\u001b[43mn\u001b[49m\u001b[43m-\u001b[49m\u001b[32;43m1\u001b[39;49m\u001b[43m)\u001b[49m + FibRec(n-\u001b[32m2\u001b[39m)\n\u001b[32m      6\u001b[39m     \u001b[38;5;28;01melse\u001b[39;00m:\n\u001b[32m      7\u001b[39m         \u001b[38;5;28;01mreturn\u001b[39;00m \u001b[32m1\u001b[39m\n",
      "    \u001b[31m[... skipping similar frames: FibRec at line 5 (49 times)]\u001b[39m\n",
      "\u001b[36mCell\u001b[39m\u001b[36m \u001b[39m\u001b[32mIn[10]\u001b[39m\u001b[32m, line 5\u001b[39m, in \u001b[36mFibRec\u001b[39m\u001b[34m(n)\u001b[39m\n\u001b[32m      3\u001b[39m \u001b[38;5;28;01mdef\u001b[39;00m\u001b[38;5;250m \u001b[39m\u001b[34mFibRec\u001b[39m(n):\n\u001b[32m      4\u001b[39m     \u001b[38;5;28;01mif\u001b[39;00m n > \u001b[32m2\u001b[39m:\n\u001b[32m----> \u001b[39m\u001b[32m5\u001b[39m         \u001b[38;5;28;01mreturn\u001b[39;00m FibRec(n-\u001b[32m1\u001b[39m) + \u001b[43mFibRec\u001b[49m\u001b[43m(\u001b[49m\u001b[43mn\u001b[49m\u001b[43m-\u001b[49m\u001b[32;43m2\u001b[39;49m\u001b[43m)\u001b[49m\n\u001b[32m      6\u001b[39m     \u001b[38;5;28;01melse\u001b[39;00m:\n\u001b[32m      7\u001b[39m         \u001b[38;5;28;01mreturn\u001b[39;00m \u001b[32m1\u001b[39m\n",
      "\u001b[36mCell\u001b[39m\u001b[36m \u001b[39m\u001b[32mIn[10]\u001b[39m\u001b[32m, line 3\u001b[39m, in \u001b[36mFibRec\u001b[39m\u001b[34m(n)\u001b[39m\n\u001b[32m      1\u001b[39m \u001b[38;5;28;01mfrom\u001b[39;00m\u001b[38;5;250m \u001b[39m\u001b[34;01mtime\u001b[39;00m\u001b[38;5;250m \u001b[39m\u001b[38;5;28;01mimport\u001b[39;00m monotonic\n\u001b[32m----> \u001b[39m\u001b[32m3\u001b[39m \u001b[38;5;28;01mdef\u001b[39;00m\u001b[38;5;250m \u001b[39m\u001b[34mFibRec\u001b[39m(n):\n\u001b[32m      4\u001b[39m     \u001b[38;5;28;01mif\u001b[39;00m n > \u001b[32m2\u001b[39m:\n\u001b[32m      5\u001b[39m         \u001b[38;5;28;01mreturn\u001b[39;00m FibRec(n-\u001b[32m1\u001b[39m) + FibRec(n-\u001b[32m2\u001b[39m)\n",
      "\u001b[31mKeyboardInterrupt\u001b[39m: "
     ]
    }
   ],
   "source": [
    "from time import monotonic\n",
    "\n",
    "def FibRec(n):\n",
    "    if n > 2:\n",
    "        return FibRec(n-1) + FibRec(n-2)\n",
    "    else:\n",
    "        return 1\n",
    "\n",
    "def FibIt(n):\n",
    "    fn = fm1 = 1\n",
    "    for i in range(3, n+1):\n",
    "        fn, fm1 = (fn + fm1, fn)\n",
    "    return fn\n",
    "\n",
    "def test(n):\n",
    "    s = monotonic()\n",
    "    FibIt(n)\n",
    "    ti = monotonic() -s\n",
    "    print(f\"n = {n}, fonction itérative : {ti}\")\n",
    "    s = monotonic()\n",
    "    FibRec(n)\n",
    "    tr = monotonic() -s\n",
    "    print(f\"n = {n}, fonction récursive : {tr}\")\n",
    "    print(tr/ti)\n",
    "    \n",
    "test(35)\n",
    "test(70)"
   ]
  }
 ],
 "metadata": {
  "kernelspec": {
   "display_name": "Python 3",
   "language": "python",
   "name": "python3"
  },
  "language_info": {
   "codemirror_mode": {
    "name": "ipython",
    "version": 3
   },
   "file_extension": ".py",
   "mimetype": "text/x-python",
   "name": "python",
   "nbconvert_exporter": "python",
   "pygments_lexer": "ipython3",
   "version": "3.13.7"
  }
 },
 "nbformat": 4,
 "nbformat_minor": 5
}
