{
 "cells": [
  {
   "cell_type": "markdown",
   "id": "b19ef892",
   "metadata": {},
   "source": [
    "## Exercice 9.2\n",
    "\n",
    "Il s'agit du calcul du PGCD par la méthode des différences."
   ]
  },
  {
   "cell_type": "code",
   "execution_count": 1,
   "id": "77fcb615",
   "metadata": {},
   "outputs": [
    {
     "data": {
      "text/plain": [
       "3"
      ]
     },
     "execution_count": 1,
     "metadata": {},
     "output_type": "execute_result"
    }
   ],
   "source": [
    "def mystere(a,b):\n",
    "    if (a == 0 or b == 0):\n",
    "        return 0\n",
    "    elif a == b:\n",
    "        return a\n",
    "    elif a > b:\n",
    "        return mystere(a-b, b)\n",
    "    else:\n",
    "        return mystere(a, b-a)\n",
    "\n",
    "mystere(36,15)"
   ]
  }
 ],
 "metadata": {
  "kernelspec": {
   "display_name": "Python 3",
   "language": "python",
   "name": "python3"
  },
  "language_info": {
   "codemirror_mode": {
    "name": "ipython",
    "version": 3
   },
   "file_extension": ".py",
   "mimetype": "text/x-python",
   "name": "python",
   "nbconvert_exporter": "python",
   "pygments_lexer": "ipython3",
   "version": "3.13.7"
  }
 },
 "nbformat": 4,
 "nbformat_minor": 5
}
