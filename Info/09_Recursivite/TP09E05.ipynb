{
 "cells": [
  {
   "cell_type": "markdown",
   "id": "a1ea75ee",
   "metadata": {},
   "source": [
    "## Exercice 9.5"
   ]
  },
  {
   "cell_type": "code",
   "execution_count": null,
   "id": "02ee1665",
   "metadata": {
    "vscode": {
     "languageId": "plaintext"
    }
   },
   "outputs": [],
   "source": []
  }
 ],
 "metadata": {
  "language_info": {
   "name": "python"
  }
 },
 "nbformat": 4,
 "nbformat_minor": 5
}
