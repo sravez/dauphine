{
 "cells": [
  {
   "cell_type": "markdown",
   "id": "a1ea75ee",
   "metadata": {},
   "source": [
    "## Exercice 9.5"
   ]
  },
  {
   "cell_type": "code",
   "execution_count": 6,
   "id": "02ee1665",
   "metadata": {},
   "outputs": [],
   "source": [
    "def sansOccu2(L,x):\n",
    "    if L != []:\n",
    "        if L[0] == x:\n",
    "            L = sansOccu2(L[1:], x)\n",
    "        else:\n",
    "            L = [ L[0] ] + sansOccu2(L[1:], x)\n",
    "    return L"
   ]
  },
  {
   "cell_type": "markdown",
   "id": "bdba9edc",
   "metadata": {},
   "source": [
    "### 9.5.1\n",
    "\n",
    "Pour `[]`, la fonction renvoie son argument, donc une liste vide"
   ]
  },
  {
   "cell_type": "code",
   "execution_count": 7,
   "id": "00d71f1b",
   "metadata": {},
   "outputs": [
    {
     "data": {
      "text/plain": [
       "[]"
      ]
     },
     "execution_count": 7,
     "metadata": {},
     "output_type": "execute_result"
    }
   ],
   "source": [
    "sansOccu2([],\"e\")"
   ]
  },
  {
   "cell_type": "markdown",
   "id": "18ca9a14",
   "metadata": {},
   "source": [
    "### 9.5.2\n",
    "\n",
    "`L` n'est pas modifié par la fonction"
   ]
  },
  {
   "cell_type": "code",
   "execution_count": 9,
   "id": "8c7efc1a",
   "metadata": {},
   "outputs": [
    {
     "name": "stdout",
     "output_type": "stream",
     "text": [
      "[1, 7, 5]\n",
      "[1, 3, 3, 7, 3, 5]\n",
      "[1, 3, 7]\n",
      "[1, 3, 5, 7]\n"
     ]
    }
   ],
   "source": [
    "L = [1,3,3,7,3,5]\n",
    "print(sansOccu2(L,3))\n",
    "print(L)\n",
    "L = [1,3,5,7]\n",
    "print(sansOccu2(L, 5))\n",
    "print(L)"
   ]
  }
 ],
 "metadata": {
  "kernelspec": {
   "display_name": "Python 3",
   "language": "python",
   "name": "python3"
  },
  "language_info": {
   "codemirror_mode": {
    "name": "ipython",
    "version": 3
   },
   "file_extension": ".py",
   "mimetype": "text/x-python",
   "name": "python",
   "nbconvert_exporter": "python",
   "pygments_lexer": "ipython3",
   "version": "3.13.7"
  }
 },
 "nbformat": 4,
 "nbformat_minor": 5
}
