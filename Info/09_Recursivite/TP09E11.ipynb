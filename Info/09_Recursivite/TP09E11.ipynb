{
 "cells": [
  {
   "cell_type": "markdown",
   "id": "9a37bfcc",
   "metadata": {},
   "source": [
    "## Exercice 9.11\n",
    "\n",
    "### 9.11.1\n",
    "\n",
    "Il faut modifierle deuxième argument de `randint()` et le passer à 10."
   ]
  },
  {
   "cell_type": "code",
   "execution_count": 2,
   "id": "c6501d7e",
   "metadata": {},
   "outputs": [
    {
     "name": "stdout",
     "output_type": "stream",
     "text": [
      "[8, 8, 5, 7, 8]\n"
     ]
    }
   ],
   "source": [
    "from random import randint\n",
    "\n",
    "L= []\n",
    "for i in range(5):\n",
    "    L.append(randint(0,10))\n",
    "print(L)"
   ]
  },
  {
   "cell_type": "markdown",
   "id": "d79cd1d5",
   "metadata": {},
   "source": [
    "### 9.11.2\n",
    "\n",
    "La première exécution génère bien une liste aléatoire de 5 éléments.\n",
    "\n",
    "Les exécutions suivantes produisent la même liste, donc non aléatoire. Il y a donc un problème de conception.\n",
    "\n",
    "Lorsque l'on redémarre l'interpréteur, on a l'erreur `NameError: name 'L' is not defined` : avant le redémarrage,\n",
    "`L` contenait la valeur générée au 9.11.1"
   ]
  },
  {
   "cell_type": "code",
   "execution_count": 21,
   "id": "e7092306",
   "metadata": {},
   "outputs": [
    {
     "name": "stdout",
     "output_type": "stream",
     "text": [
      "[6, 7, 1, 5, 8]\n"
     ]
    }
   ],
   "source": [
    "from random import randint\n",
    "\n",
    "def f(n):\n",
    "    L = []\n",
    "    for i in range(n):\n",
    "        L.append(randint(0,10))\n",
    "    return L\n",
    "\n",
    "M = f(5)\n",
    "print(M)"
   ]
  }
 ],
 "metadata": {
  "kernelspec": {
   "display_name": "Python 3",
   "language": "python",
   "name": "python3"
  },
  "language_info": {
   "codemirror_mode": {
    "name": "ipython",
    "version": 3
   },
   "file_extension": ".py",
   "mimetype": "text/x-python",
   "name": "python",
   "nbconvert_exporter": "python",
   "pygments_lexer": "ipython3",
   "version": "3.13.7"
  }
 },
 "nbformat": 4,
 "nbformat_minor": 5
}
