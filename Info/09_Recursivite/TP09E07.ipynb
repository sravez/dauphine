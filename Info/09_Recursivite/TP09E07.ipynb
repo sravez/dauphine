{
 "cells": [
  {
   "cell_type": "markdown",
   "id": "d561e934",
   "metadata": {},
   "source": [
    "## Exercice 9.7 - Suite de Fibonacci\n",
    "\n",
    "### 9.7.1 Pseudo-code\n",
    "\n",
    "```text\n",
    "f(n)\n",
    "-------\n",
    "n : int\n",
    "-------\n",
    "begin\n",
    "    if n < 2\n",
    "        return 1\n",
    "    else\n",
    "        return f(n-1) + f(n-2)\n",
    "    end if\n",
    "end\n",
    "```"
   ]
  },
  {
   "cell_type": "markdown",
   "id": "13677310",
   "metadata": {},
   "source": [
    "### 9.7.2\n",
    "\n",
    "```text\n",
    "f(5) <- f(4)                       + f(3)\n",
    "        <- f(3)           + f(2)     <- f(2) + f(1)\n",
    "           <- f(2) + f(1)   <- 1        <- 1   <- 1\n",
    "              <- 1   <- 1\n",
    "```"
   ]
  }
 ],
 "metadata": {
  "language_info": {
   "name": "python"
  }
 },
 "nbformat": 4,
 "nbformat_minor": 5
}
