{
 "cells": [
  {
   "cell_type": "markdown",
   "id": "5cf53358",
   "metadata": {},
   "source": [
    "## Exercice 9.4\n",
    "\n",
    "Afin de réduire le nombre d'appels récursifs, on peut ordonner les arguments."
   ]
  },
  {
   "cell_type": "code",
   "execution_count": 7,
   "id": "f9dcee8d",
   "metadata": {},
   "outputs": [
    {
     "name": "stdout",
     "output_type": "stream",
     "text": [
      "36\n",
      "36\n"
     ]
    }
   ],
   "source": [
    "def produit(a: int, b: int) -> int:\n",
    "    if a == 0:\n",
    "        return 0\n",
    "    else:\n",
    "        return b + produit(a-1, b)\n",
    "\n",
    "def produit_optimise(a: int, b: int) -> int:\n",
    "    if a > b:\n",
    "        return produit(b, a)\n",
    "    else:\n",
    "        return produit(a, b)\n",
    "\n",
    "\n",
    "\n",
    "print(produit(12,3))\n",
    "print(produit_optimise(12,3))"
   ]
  }
 ],
 "metadata": {
  "kernelspec": {
   "display_name": "Python 3",
   "language": "python",
   "name": "python3"
  },
  "language_info": {
   "codemirror_mode": {
    "name": "ipython",
    "version": 3
   },
   "file_extension": ".py",
   "mimetype": "text/x-python",
   "name": "python",
   "nbconvert_exporter": "python",
   "pygments_lexer": "ipython3",
   "version": "3.13.7"
  }
 },
 "nbformat": 4,
 "nbformat_minor": 5
}
